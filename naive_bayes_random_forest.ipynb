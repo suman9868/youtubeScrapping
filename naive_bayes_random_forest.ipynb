{
 "cells": [
  {
   "cell_type": "markdown",
   "metadata": {
    "deletable": true,
    "editable": true
   },
   "source": [
    "# header file included"
   ]
  },
  {
   "cell_type": "code",
   "execution_count": 2,
   "metadata": {
    "collapsed": false,
    "deletable": true,
    "editable": true
   },
   "outputs": [
    {
     "name": "stdout",
     "output_type": "stream",
     "text": [
      "done\n"
     ]
    }
   ],
   "source": [
    "import pandas as pd\n",
    "import numpy as np\n",
    "import seaborn as sb\n",
    "import matplotlib.pyplot as plt\n",
    "\n",
    "print('done')"
   ]
  },
  {
   "cell_type": "markdown",
   "metadata": {
    "deletable": true,
    "editable": true
   },
   "source": [
    "# data loading"
   ]
  },
  {
   "cell_type": "code",
   "execution_count": 3,
   "metadata": {
    "collapsed": false,
    "deletable": true,
    "editable": true
   },
   "outputs": [
    {
     "data": {
      "text/html": [
       "<div>\n",
       "<style scoped>\n",
       "    .dataframe tbody tr th:only-of-type {\n",
       "        vertical-align: middle;\n",
       "    }\n",
       "\n",
       "    .dataframe tbody tr th {\n",
       "        vertical-align: top;\n",
       "    }\n",
       "\n",
       "    .dataframe thead th {\n",
       "        text-align: right;\n",
       "    }\n",
       "</style>\n",
       "<table border=\"1\" class=\"dataframe\">\n",
       "  <thead>\n",
       "    <tr style=\"text-align: right;\">\n",
       "      <th></th>\n",
       "      <th>Video id</th>\n",
       "      <th>Title</th>\n",
       "      <th>Description</th>\n",
       "      <th>Category</th>\n",
       "    </tr>\n",
       "  </thead>\n",
       "  <tbody>\n",
       "    <tr>\n",
       "      <th>0</th>\n",
       "      <td>DU1BEo2GlnM</td>\n",
       "      <td>day gulftain missil travel iran ferri</td>\n",
       "      <td>https www timesofisrael com former mk say iran...</td>\n",
       "      <td>travel</td>\n",
       "    </tr>\n",
       "    <tr>\n",
       "      <th>1</th>\n",
       "      <td>XatWIV-bWnA</td>\n",
       "      <td>travel hack collab heyitsjemma</td>\n",
       "      <td>hey hope guy enjoy know video bit differ fit h...</td>\n",
       "      <td>travel</td>\n",
       "    </tr>\n",
       "    <tr>\n",
       "      <th>2</th>\n",
       "      <td>p0-Sa6hK9ZU</td>\n",
       "      <td>kh nh linh travel h ng th ng gia bamboo airway...</td>\n",
       "      <td>kh nh linh travel vlog h ng th ng gia bamboo a...</td>\n",
       "      <td>travel</td>\n",
       "    </tr>\n",
       "    <tr>\n",
       "      <th>3</th>\n",
       "      <td>egjqs_6zvno</td>\n",
       "      <td>best video lefkada holiday greec travel drone ...</td>\n",
       "      <td>subskrybuj j kana instagram https www instagra...</td>\n",
       "      <td>travel</td>\n",
       "    </tr>\n",
       "    <tr>\n",
       "      <th>4</th>\n",
       "      <td>abH6pFIp--Y</td>\n",
       "      <td>vlog travel pack storm new addict matur beauti...</td>\n",
       "      <td>hectic week pack teach get pedicur get easter ...</td>\n",
       "      <td>travel</td>\n",
       "    </tr>\n",
       "  </tbody>\n",
       "</table>\n",
       "</div>"
      ],
      "text/plain": [
       "      Video id                                              Title  \\\n",
       "0  DU1BEo2GlnM              day gulftain missil travel iran ferri   \n",
       "1  XatWIV-bWnA                     travel hack collab heyitsjemma   \n",
       "2  p0-Sa6hK9ZU  kh nh linh travel h ng th ng gia bamboo airway...   \n",
       "3  egjqs_6zvno  best video lefkada holiday greec travel drone ...   \n",
       "4  abH6pFIp--Y  vlog travel pack storm new addict matur beauti...   \n",
       "\n",
       "                                         Description Category  \n",
       "0  https www timesofisrael com former mk say iran...   travel  \n",
       "1  hey hope guy enjoy know video bit differ fit h...   travel  \n",
       "2  kh nh linh travel vlog h ng th ng gia bamboo a...   travel  \n",
       "3  subskrybuj j kana instagram https www instagra...   travel  \n",
       "4  hectic week pack teach get pedicur get easter ...   travel  "
      ]
     },
     "execution_count": 3,
     "metadata": {},
     "output_type": "execute_result"
    }
   ],
   "source": [
    "data = pd.read_csv('preprocessed_data.csv')\n",
    "data.head()"
   ]
  },
  {
   "cell_type": "code",
   "execution_count": 4,
   "metadata": {
    "collapsed": true,
    "deletable": true,
    "editable": true
   },
   "outputs": [],
   "source": [
    "data.dropna(inplace=True)"
   ]
  },
  {
   "cell_type": "code",
   "execution_count": 5,
   "metadata": {
    "collapsed": false,
    "deletable": true,
    "editable": true
   },
   "outputs": [
    {
     "data": {
      "text/plain": [
       "(1868, 4)"
      ]
     },
     "execution_count": 5,
     "metadata": {},
     "output_type": "execute_result"
    }
   ],
   "source": [
    "data.shape"
   ]
  },
  {
   "cell_type": "markdown",
   "metadata": {
    "deletable": true,
    "editable": true
   },
   "source": [
    "# dropping 'Video id' column"
   ]
  },
  {
   "cell_type": "code",
   "execution_count": 6,
   "metadata": {
    "collapsed": false,
    "deletable": true,
    "editable": true
   },
   "outputs": [
    {
     "data": {
      "text/html": [
       "<div>\n",
       "<style scoped>\n",
       "    .dataframe tbody tr th:only-of-type {\n",
       "        vertical-align: middle;\n",
       "    }\n",
       "\n",
       "    .dataframe tbody tr th {\n",
       "        vertical-align: top;\n",
       "    }\n",
       "\n",
       "    .dataframe thead th {\n",
       "        text-align: right;\n",
       "    }\n",
       "</style>\n",
       "<table border=\"1\" class=\"dataframe\">\n",
       "  <thead>\n",
       "    <tr style=\"text-align: right;\">\n",
       "      <th></th>\n",
       "      <th>Title</th>\n",
       "      <th>Description</th>\n",
       "      <th>Category</th>\n",
       "    </tr>\n",
       "  </thead>\n",
       "  <tbody>\n",
       "    <tr>\n",
       "      <th>0</th>\n",
       "      <td>day gulftain missil travel iran ferri</td>\n",
       "      <td>https www timesofisrael com former mk say iran...</td>\n",
       "      <td>travel</td>\n",
       "    </tr>\n",
       "    <tr>\n",
       "      <th>1</th>\n",
       "      <td>travel hack collab heyitsjemma</td>\n",
       "      <td>hey hope guy enjoy know video bit differ fit h...</td>\n",
       "      <td>travel</td>\n",
       "    </tr>\n",
       "    <tr>\n",
       "      <th>2</th>\n",
       "      <td>kh nh linh travel h ng th ng gia bamboo airway...</td>\n",
       "      <td>kh nh linh travel vlog h ng th ng gia bamboo a...</td>\n",
       "      <td>travel</td>\n",
       "    </tr>\n",
       "    <tr>\n",
       "      <th>3</th>\n",
       "      <td>best video lefkada holiday greec travel drone ...</td>\n",
       "      <td>subskrybuj j kana instagram https www instagra...</td>\n",
       "      <td>travel</td>\n",
       "    </tr>\n",
       "    <tr>\n",
       "      <th>4</th>\n",
       "      <td>vlog travel pack storm new addict matur beauti...</td>\n",
       "      <td>hectic week pack teach get pedicur get easter ...</td>\n",
       "      <td>travel</td>\n",
       "    </tr>\n",
       "  </tbody>\n",
       "</table>\n",
       "</div>"
      ],
      "text/plain": [
       "                                               Title  \\\n",
       "0              day gulftain missil travel iran ferri   \n",
       "1                     travel hack collab heyitsjemma   \n",
       "2  kh nh linh travel h ng th ng gia bamboo airway...   \n",
       "3  best video lefkada holiday greec travel drone ...   \n",
       "4  vlog travel pack storm new addict matur beauti...   \n",
       "\n",
       "                                         Description Category  \n",
       "0  https www timesofisrael com former mk say iran...   travel  \n",
       "1  hey hope guy enjoy know video bit differ fit h...   travel  \n",
       "2  kh nh linh travel vlog h ng th ng gia bamboo a...   travel  \n",
       "3  subskrybuj j kana instagram https www instagra...   travel  \n",
       "4  hectic week pack teach get pedicur get easter ...   travel  "
      ]
     },
     "execution_count": 6,
     "metadata": {},
     "output_type": "execute_result"
    }
   ],
   "source": [
    "# dropping 'Video id' columns as it is not needed\n",
    "data = data.drop('Video id', axis=1)\n",
    "data.head(5)"
   ]
  },
  {
   "cell_type": "markdown",
   "metadata": {
    "deletable": true,
    "editable": true
   },
   "source": [
    "# label conversion"
   ]
  },
  {
   "cell_type": "code",
   "execution_count": 7,
   "metadata": {
    "collapsed": false,
    "deletable": true,
    "editable": true
   },
   "outputs": [
    {
     "data": {
      "text/html": [
       "<div>\n",
       "<style scoped>\n",
       "    .dataframe tbody tr th:only-of-type {\n",
       "        vertical-align: middle;\n",
       "    }\n",
       "\n",
       "    .dataframe tbody tr th {\n",
       "        vertical-align: top;\n",
       "    }\n",
       "\n",
       "    .dataframe thead th {\n",
       "        text-align: right;\n",
       "    }\n",
       "</style>\n",
       "<table border=\"1\" class=\"dataframe\">\n",
       "  <thead>\n",
       "    <tr style=\"text-align: right;\">\n",
       "      <th></th>\n",
       "      <th>Title</th>\n",
       "      <th>Description</th>\n",
       "      <th>Category</th>\n",
       "    </tr>\n",
       "  </thead>\n",
       "  <tbody>\n",
       "    <tr>\n",
       "      <th>1865</th>\n",
       "      <td>element lindsey stirl dubstep violin origin song</td>\n",
       "      <td>pick copi delux edit lindsey christma album wa...</td>\n",
       "      <td>5</td>\n",
       "    </tr>\n",
       "    <tr>\n",
       "      <th>1866</th>\n",
       "      <td>bebe rexha mess offici music video</td>\n",
       "      <td>new singl debut album expect https beberexha i...</td>\n",
       "      <td>5</td>\n",
       "    </tr>\n",
       "    <tr>\n",
       "      <th>1867</th>\n",
       "      <td>medicin queen naija offici video</td>\n",
       "      <td>self titl ep featur karma medicin listen http ...</td>\n",
       "      <td>5</td>\n",
       "    </tr>\n",
       "    <tr>\n",
       "      <th>1868</th>\n",
       "      <td>post malon go flex</td>\n",
       "      <td>go flex offici video download today http repub...</td>\n",
       "      <td>5</td>\n",
       "    </tr>\n",
       "    <tr>\n",
       "      <th>1869</th>\n",
       "      <td>alan walker differ world feat sofia carson k c...</td>\n",
       "      <td>walker excit final releas new singl differ wor...</td>\n",
       "      <td>5</td>\n",
       "    </tr>\n",
       "  </tbody>\n",
       "</table>\n",
       "</div>"
      ],
      "text/plain": [
       "                                                  Title  \\\n",
       "1865   element lindsey stirl dubstep violin origin song   \n",
       "1866                 bebe rexha mess offici music video   \n",
       "1867                   medicin queen naija offici video   \n",
       "1868                                 post malon go flex   \n",
       "1869  alan walker differ world feat sofia carson k c...   \n",
       "\n",
       "                                            Description  Category  \n",
       "1865  pick copi delux edit lindsey christma album wa...         5  \n",
       "1866  new singl debut album expect https beberexha i...         5  \n",
       "1867  self titl ep featur karma medicin listen http ...         5  \n",
       "1868  go flex offici video download today http repub...         5  \n",
       "1869  walker excit final releas new singl differ wor...         5  "
      ]
     },
     "execution_count": 7,
     "metadata": {},
     "output_type": "execute_result"
    }
   ],
   "source": [
    "data['Category'] = data.Category.map({'travel':0, 'science':1, 'food':2, 'manufacturing':3, 'history':4, 'art':5})\n",
    "data.tail(5)"
   ]
  },
  {
   "cell_type": "markdown",
   "metadata": {
    "deletable": true,
    "editable": true
   },
   "source": [
    "# combining 'Title' and 'Description' into one column 'TitleDescription'"
   ]
  },
  {
   "cell_type": "code",
   "execution_count": 8,
   "metadata": {
    "collapsed": false,
    "deletable": true,
    "editable": true
   },
   "outputs": [
    {
     "data": {
      "text/html": [
       "<div>\n",
       "<style scoped>\n",
       "    .dataframe tbody tr th:only-of-type {\n",
       "        vertical-align: middle;\n",
       "    }\n",
       "\n",
       "    .dataframe tbody tr th {\n",
       "        vertical-align: top;\n",
       "    }\n",
       "\n",
       "    .dataframe thead th {\n",
       "        text-align: right;\n",
       "    }\n",
       "</style>\n",
       "<table border=\"1\" class=\"dataframe\">\n",
       "  <thead>\n",
       "    <tr style=\"text-align: right;\">\n",
       "      <th></th>\n",
       "      <th>Title</th>\n",
       "      <th>Description</th>\n",
       "      <th>Category</th>\n",
       "      <th>TitleDesciption</th>\n",
       "    </tr>\n",
       "  </thead>\n",
       "  <tbody>\n",
       "    <tr>\n",
       "      <th>0</th>\n",
       "      <td>day gulftain missil travel iran ferri</td>\n",
       "      <td>https www timesofisrael com former mk say iran...</td>\n",
       "      <td>0</td>\n",
       "      <td>day gulftain missil travel iran ferri https ww...</td>\n",
       "    </tr>\n",
       "    <tr>\n",
       "      <th>1</th>\n",
       "      <td>travel hack collab heyitsjemma</td>\n",
       "      <td>hey hope guy enjoy know video bit differ fit h...</td>\n",
       "      <td>0</td>\n",
       "      <td>travel hack collab heyitsjemma hey hope guy en...</td>\n",
       "    </tr>\n",
       "    <tr>\n",
       "      <th>2</th>\n",
       "      <td>kh nh linh travel h ng th ng gia bamboo airway...</td>\n",
       "      <td>kh nh linh travel vlog h ng th ng gia bamboo a...</td>\n",
       "      <td>0</td>\n",
       "      <td>kh nh linh travel h ng th ng gia bamboo airway...</td>\n",
       "    </tr>\n",
       "    <tr>\n",
       "      <th>3</th>\n",
       "      <td>best video lefkada holiday greec travel drone ...</td>\n",
       "      <td>subskrybuj j kana instagram https www instagra...</td>\n",
       "      <td>0</td>\n",
       "      <td>best video lefkada holiday greec travel drone ...</td>\n",
       "    </tr>\n",
       "    <tr>\n",
       "      <th>4</th>\n",
       "      <td>vlog travel pack storm new addict matur beauti...</td>\n",
       "      <td>hectic week pack teach get pedicur get easter ...</td>\n",
       "      <td>0</td>\n",
       "      <td>vlog travel pack storm new addict matur beauti...</td>\n",
       "    </tr>\n",
       "  </tbody>\n",
       "</table>\n",
       "</div>"
      ],
      "text/plain": [
       "                                               Title  \\\n",
       "0              day gulftain missil travel iran ferri   \n",
       "1                     travel hack collab heyitsjemma   \n",
       "2  kh nh linh travel h ng th ng gia bamboo airway...   \n",
       "3  best video lefkada holiday greec travel drone ...   \n",
       "4  vlog travel pack storm new addict matur beauti...   \n",
       "\n",
       "                                         Description  Category  \\\n",
       "0  https www timesofisrael com former mk say iran...         0   \n",
       "1  hey hope guy enjoy know video bit differ fit h...         0   \n",
       "2  kh nh linh travel vlog h ng th ng gia bamboo a...         0   \n",
       "3  subskrybuj j kana instagram https www instagra...         0   \n",
       "4  hectic week pack teach get pedicur get easter ...         0   \n",
       "\n",
       "                                     TitleDesciption  \n",
       "0  day gulftain missil travel iran ferri https ww...  \n",
       "1  travel hack collab heyitsjemma hey hope guy en...  \n",
       "2  kh nh linh travel h ng th ng gia bamboo airway...  \n",
       "3  best video lefkada holiday greec travel drone ...  \n",
       "4  vlog travel pack storm new addict matur beauti...  "
      ]
     },
     "execution_count": 8,
     "metadata": {},
     "output_type": "execute_result"
    }
   ],
   "source": [
    "data['TitleDesciption'] = data['Title']+ ' ' + data['Description']\n",
    "data.head()"
   ]
  },
  {
   "cell_type": "markdown",
   "metadata": {
    "deletable": true,
    "editable": true
   },
   "source": [
    "# train_test_split (train:test - 80:20) "
   ]
  },
  {
   "cell_type": "code",
   "execution_count": 9,
   "metadata": {
    "collapsed": false,
    "deletable": true,
    "editable": true
   },
   "outputs": [
    {
     "name": "stdout",
     "output_type": "stream",
     "text": [
      "done\n"
     ]
    }
   ],
   "source": [
    "from sklearn.model_selection import train_test_split\n",
    "x_train, x_test, y_train, y_test = train_test_split(data['TitleDesciption'], data.Category, test_size=0.2,random_state=1)\n",
    "\n",
    "x_train = x_train.values\n",
    "x_test = x_test.values\n",
    "y_train = y_train.values\n",
    "y_test = y_test.values\n",
    "print('done')"
   ]
  },
  {
   "cell_type": "code",
   "execution_count": 10,
   "metadata": {
    "collapsed": false,
    "deletable": true,
    "editable": true
   },
   "outputs": [
    {
     "name": "stdout",
     "output_type": "stream",
     "text": [
      "(1494,)\n"
     ]
    },
    {
     "data": {
      "text/plain": [
       "array([ 'singapor travel diari part univers studio river safari yay final upload favorit part singapor trip univers studio river safari everi singl day feel',\n",
       "       'scienc persuas http www influenceatwork com anim video describ six univers principl persuas',\n",
       "       'young turk largest onlin news show world host cenk uygur ana kasparian live weekday pm et young turk n',\n",
       "       ...,\n",
       "       'lil wayn cri ft xxxtentacion cri ft xxxtentact offici video happi birthday xxxtentacionth world miss u slime',\n",
       "       'nelli dream offici music video music video nelli perform dream c univers motown record divis umg record inc nelli',\n",
       "       'jim yosef courag feat anna yvett lyric copyright sound enjoy video hit like share subscrib'], dtype=object)"
      ]
     },
     "execution_count": 10,
     "metadata": {},
     "output_type": "execute_result"
    }
   ],
   "source": [
    "print(x_train.shape)\n",
    "x_train"
   ]
  },
  {
   "cell_type": "code",
   "execution_count": 11,
   "metadata": {
    "collapsed": false,
    "deletable": true,
    "editable": true
   },
   "outputs": [
    {
     "name": "stdout",
     "output_type": "stream",
     "text": [
      "(374,)\n"
     ]
    },
    {
     "data": {
      "text/plain": [
       "array([ 'peppa pig offici channel peppa live mummi daddi littl brother georg adventur fun sometim involv tear',\n",
       "       'dust dust first multi platform destin bing watchabl sci fi featur scienc fiction short film content',\n",
       "       'art class elsa anna toddler school barbi teacher paint color toy doll parodi video show toddler anna elsa art class school paint use beauti color',\n",
       "       'voic best blind audit ever histori hey thank lot watch make happiest person subscrib channel peopl',\n",
       "       'cinderella english stori english fairi tale cinderella english stori english stori fairi tale english bedtim stori fairi tale english stori k uhd',\n",
       "       'nation geograph inspir peopl care planet nation geograph world premium destin scienc explor',\n",
       "       'halal street food tour mumbai india muhammad ali road mega size indian food https www youtub com watch v sfskzqgmjo learn onetrip tour',\n",
       "       'start monet day nagpur daili vlog vlog ani ray start monet day nagpur daili vlog vlog ani ray howtostartmonet',\n",
       "       'cnet news meet robot make amazon even faster http cnet co vzb amazon gear cyber monday busi holiday shop season get help',\n",
       "       'nation space scienc technolog center wikipedia audio articl audio version wikipedia articl https en wikipedia org wiki nationalspacescienceand',\n",
       "       'mysteri time slip time travel stori twitter https twitter com weirdworldtv support us https patreon com weirdworldtv subscrib http bit ly',\n",
       "       'univers read scienc technolog centr wikipedia audio articl audio version wikipedia articl https en wikipedia org wiki universityofread',\n",
       "       'markipli welcom markipli find hilari game video origin comedi sketch anim parodi',\n",
       "       'black friday haul vlogma miss last upload https www youtub com watch v skevhsuksda list uup black friday',\n",
       "       'beardmeatsfood beard eat feat monument proport home beardmeatsfood britain competit eater subscrib',\n",
       "       'healthi homemad dog food guid dog owner healthi homemad dog food guid dog owner user enter chanc get petco',\n",
       "       'vid wa dear sir new product fulli automatic buffet paper plate make machin fulli automatic corrug machin daili',\n",
       "       'alien stephen webb univers incred old astound vast popul trillion planet alien astronom',\n",
       "       'visit state park travel day souvenir haul haileyelizatravel hey guy last vlog trip vlog visit myakka river state sarasota florida spent major',\n",
       "       'mcdonnel dougla space system corpor wikipedia audio articl audio version wikipedia articl https en wikipedia org wiki mcdonnelldougla histori',\n",
       "       'mumbo jumbo name oli also known mumbo jumbo make video popular voxel base game minecraft focus main',\n",
       "       'best mix best mix favourit spotifi http mrsuicidesheep com favourit best mix spotifi',\n",
       "       'reviewbrah run empti food review meme part check main man ladi gentlemen https www youtub com result searchqueri report week song',\n",
       "       'kibo uta ultra tower music box anim food war shokugeki soma op search r music box video add keyword song artist name etc',\n",
       "       'deconstruct histori titan histori everyon know titan big hard number prove discov made supers ship',\n",
       "       'dolan twin subscrib new video everi tuesday peac',\n",
       "       'content cop tana mongeau thx watchin standalon tana encount second channel https youtu jaxndeek',\n",
       "       'good mythic morn rhett link daili morn talk show good mythic morn watch show show',\n",
       "       'girl sketch letmetellyouwho sthepictur youtub channel https www youtub com result searchqueri art tasavor',\n",
       "       'coryxkenshin tri live god imag also play video game hope video make peopl littl happier pc spec',\n",
       "       'cutepolish origin nail art tutori channel youtub sandi crystal ball keep fan top hottest nail art design diy nail',\n",
       "       'escienc wikipedia audio articl audio version wikipedia articl https en wikipedia org wiki e scienc characterist',\n",
       "       'mhd bella feat wizkid bella feat wizkid offici video song avail https mhd lnk bellafeatwizkidprod junior alaprod label',\n",
       "       'dark tourist offici trailer hd netflix definit tourism redefin new zealand filmmak david farrier journey darkest corner',\n",
       "       'best duffl bag wheel ten best carri cheap travel wheel duffel bag onlin best duffl bag wheel ten best carri cheap travel wheel duffel bag onlin greet find',\n",
       "       'colleg vlog bahama hour travel pt hey guy hope enjoy today vlog spring im back bahama hometown vlog show',\n",
       "       'make chocol heart food grade silicon mold welcom etsi shop https www etsi com shop soapfantasymold make chocol coffe heart valentin day',\n",
       "       'arbaeen karna hy ali haider al baqei product bismillah releas al baqei product exclus noha arbaeen karna hy mah e moharram hd',\n",
       "       'free meal plan kick start fit journey fit thick meal plan hello cyber sister ya girl taylor back anoth video hope guy enjoy meal prep quicker result',\n",
       "       'industri wikipedia audio articl audio version wikipedia articl https en wikipedia org wiki industri histori',\n",
       "       'humza product diari badman that',\n",
       "       'food never eat know product realli danger health product good us healthi turn',\n",
       "       'drake god plan god plan offici video song avail https drake lnk scaryhoursyd direct karena evan execut',\n",
       "       'radiohead promis promis one previous unreleas track album ok comput oknotok avail',\n",
       "       'scienc technolog israel wikipedia audio articl audio version wikipedia articl https en wikipedia org wiki scienceandtechnologyini',\n",
       "       'babi food challeng cheat hey guy wanna musket squad subscrib',\n",
       "       'short histori human right lesson go take look idea human right develop age talk old',\n",
       "       'jack ripper whitechapel murder crime documentari timelin check new websit incred histori documentari hd ad free http bit ly ozusk liverpool butcher',\n",
       "       'tesla factori tour elon musk walk talk tesla factori part interview https youtu mevktpnozw behind scene tld',\n",
       "       'australian scienc technolog heritag centr wikipedia audio articl audio version wikipedia articl https en wikipedia org wiki',\n",
       "       'watch offici eat pray love trailer hd releas date august unit state liz gilbert julia robert modern woman quest marvel travel',\n",
       "       'villag food secret villag food secret villag food street food travel food hotel food hope like cook video',\n",
       "       'gamegrump game grump dan arin playin game everi day upload schedul time pacif mon let play pm power',\n",
       "       'fender news grill chicken shish kebab https www youtub com watch v pukxctji https www youtub com watch v rnsutqxu',\n",
       "       'plastic pollut human turn world plastic modern life would imposs without plastic long sinc lost control invent plastic',\n",
       "       'fgteev fgteev famili game team bring premier youtub channel famili gamer meet fgteev duddi wife',\n",
       "       'creami momo lape spici thukpa majnu ka tilla street food delhi manjnu ka tilla differ place amaz food love peopl locat https goo gl map jqqackvbz pleas',\n",
       "       'gymnast simon bile aim make olymp histori bile member u women gymnast team need three gold medal becom decor american',\n",
       "       'find food china may kunm china mike mah speaker author adventur respect natur health person safeti',\n",
       "       'scienc technolog human valu wikipedia audio articl audio version wikipedia articl https en wikipedia org wiki scienc technolog hu',\n",
       "       'shanghai beij high speed train video guid video guid train ride shanghai hongqiao beij south km mile hour minut practic',\n",
       "       'intern union food scienc technolog wikipedia audio articl audio version wikipedia articl https en wikipedia org wiki',\n",
       "       'vex world vexiq elementari school technolog qual f x vex world vexiq elementari school technolog qual team score f r tecteam f diy robotec corp',\n",
       "       'promo tricki game pop rock opera hild svendsrud hg schmitz music product listen',\n",
       "       'automot industri hungari wikipedia audio articl audio version wikipedia articl https en wikipedia org wiki automotiveindustryinhungari',\n",
       "       'astrix deep jungl walk subscrib http bit ly subscribeastrix buy http btprt dj pmda buy cd',\n",
       "       'learn english stori beauti beast level rich merchant three son three daughter one children daughter beauti special kind heart',\n",
       "       'god father bisaya parodi dub real clip https www youtub com result searchqueri godfath bonasera scene twitter yumixtv facebook',\n",
       "       'kbs world tv kbs world televis channel intern audienc provid korean broadcast system kbs',\n",
       "       'alt shift x explain analysi game throne game throne season stream live q',\n",
       "       'dilbar arab version fnair feat nora fatehi seri present offici music video song dilbar arab sung nora fatehi fnair song compos',\n",
       "       'first vlog ever come travel orlando fl haileyeliza stravel hey guy welcom first vlog ever creat channel whenev older look back amaz',\n",
       "       'moment riverflow pure natur clean water mountain travel https www youtub com result searchqueri moment natur',\n",
       "       'sustain palm oil product http wwf panda org palmoil palm oil produc malaysia indonesia land thrive',\n",
       "       'travi scott sicko mode ft drake astroworld http travisscott com sicko mode http smarturl tssickomod director dave meyer',\n",
       "       'medicin queen naija offici video self titl ep featur karma medicin listen http queennaija lnk epyd social media link',\n",
       "       'banach tarski paradox q anagram banach tarski banach tarski banach tarski twitter https www twitter com tweetsauc',\n",
       "       'happen india sexual assault great news updat within hour releas hotel happen shut upper manag',\n",
       "       'hp graphic art hp built year digit print experi industri widest product rang deliv custom',\n",
       "       'offic center east coffe street greenvill sc classic downtown build locat corner church st e coffe st heart downtown greenvill south',\n",
       "       'meal prep lazi day chat rcsummer hi friend super chill vlog hope enjoy youtub mention georgia woodford https www',\n",
       "       'organ vegan food hack eat healthi budget thank tune facebook live schedul follow find fb andrea leigh cox tasti tuesday tuesday',\n",
       "       'michio kaku univers nutshel full present could find one singl equat explain everi forc univers dr michio kaku explor physicist may',\n",
       "       'adobo porksparerib https www youtub com result searchqueri relli angel',\n",
       "       'switch dog food gradual switch dog food gradual',\n",
       "       'lego stori lego group celebr th birthday take look back histori short anim film find',\n",
       "       'airbus welcom offici airbus channel youtub industri lead manufactur commerci jetlin militari',\n",
       "       'speedpaint food fight found base thought good idea abbi told make video',\n",
       "       'mrsuicidesheep channel find wide varieti differ electron sometim non electron music strive find best',\n",
       "       'search work https www googl com search howsearchwork life span googl queri less second involv quit',\n",
       "       'khan academi khan academi c nonprofit organ mission provid free world class educ anyon',\n",
       "       'weeknd starboy lyric ft daft punk starboy ft daft punk lyric video taken new album starboy http theweeknd co starboyyd connect weeknd',\n",
       "       'citi futur singapor full episod nation geograph visionari thinker innov guid citi futur singapor dive deep latest innov',\n",
       "       'hanwha aerospac wikipedia audio articl audio version wikipedia articl https en wikipedia org wiki hanwhaaerospac histori',\n",
       "       'food wast us westeren carolina univers azam alshibl salem albabkri rakan aldaba sourc http www curbcompost org compost html',\n",
       "       'huge thank awesom subscrib subscrib shout huge thank awesom subscrib subscrib shout thank one guy part youtub',\n",
       "       'space travel disambigu wikipedia audio articl audio version wikipedia articl https en wikipedia org wiki spacetravellisten',\n",
       "       'artist spotlight stori premier casey neistat get lost japan remix https islandrec lnk lostinjapan stream buy shawn mend album',\n",
       "       'ptxoffici three time grammi award win multi platinum sell pentatonix sold near million album worldwid',\n",
       "       'ihascupquak welcom channel find game adventur fun geeki bake diy video thing creativ artsi',\n",
       "       'reviewbrah run empti food review compil wait say check main man ladi gentlemen',\n",
       "       'spill gut fill gut w gordon ramsay jame gordon ramsay take turn ask difficult question answer leav choic',\n",
       "       'demon starset fan lyric video pleas note starset channel one https www youtub com user starsetonlineoffici music video',\n",
       "       'train vlog vol x food prep leg day first train vlog bit cring sinc never done someth like food prep leg day action',\n",
       "       'periyar maniammai institut scienc technolog wikipedia audio articl audio version wikipedia articl https en wikipedia org wiki periyarmaniammaiinstitut',\n",
       "       'product subik event parti https www youtub com result searchqueri subik singh graduat',\n",
       "       'want eat song part kid food song learn english kid food song part learn food name ask food watch tune magic make food appear',\n",
       "       'channel awesom offici youtub channel nostalgia critic channel awesom new nostalgia critic episod everi',\n",
       "       'bts love tear singular comeback trailer bts love tear singular comeback trailercredit director yongseok choi lumpen',\n",
       "       'bazzi beauti lyric subscrib nastytrack music daili follow us spotifi https spoti fi rwauwl download link https',\n",
       "       'issa vlog murangi travel lodg hey guy welcom channel pleas subscrib alreadi',\n",
       "       'journey histori premier pro templat pleas make sure subscrib thank much',\n",
       "       'al noor media product descript pleas subscrib channel like facebook page join channel',\n",
       "       'lip sync best art advic ever phase alt shift collag film found footag mix genr instruct tourist documentari art histor educ',\n",
       "       'vid wa dear sir new product fulli automatic buffet paper plate make machin fulli automatic corrug machin daili',\n",
       "       'bigtrunk success busi stori hindi b subramanyam akhil nair ne suru se digit advertis market ko samjha banayi ek compani bigtrunk pvt limit',\n",
       "       'heilung lifa krigsgaldr live lifa record live castlefest get album https heilung bandcamp com album lifa',\n",
       "       'travel mind syndrom back hole breez light love world unit music http worldunitedmus blogspot com travel mind syndrom reverbn',\n",
       "       'galileo academi scienc technolog wikipedia audio articl audio version wikipedia articl https en wikipedia org wiki galileoacademyofsci',\n",
       "       'cook cauliflow rice make keto low carb meal drew nation yes use cauliflow make rice look swap grain veggi want miss',\n",
       "       'thing beef food tube classic recip tbt painstak trawl back catalogu find five amaz recip beef may miss back',\n",
       "       'free meal plan kick start fit journey fit thick meal plan hello cyber sister ya girl taylor back anoth video hope guy enjoy meal prep quicker result',\n",
       "       'dream nelli sam tsui christina grimmi devast sad angri heartbroken rest peac christina miss download stream track',\n",
       "       'smart jewelri top smart jewelri technolog evolut beauti futurist jewelri smart jewelri top smart jewelri technolog evolut beauti futurist jewelri top smart jewelleri',\n",
       "       'akbar ki azaan mohsin raza hashmi al baqei product bismillah releas al baqi product exclus noha akbar ki azaan hd recitor mohsin raza',\n",
       "       'taylor swift love stori lyric shop merch http www redbubbl com peopl ylovesmus song love stori artist taylor swift album fearless',\n",
       "       'lego challeng roi alex stomp roll run cri lego best wassabi http bit ly bnanq watch everi wassabi',\n",
       "       'manila vlog travel manila ab cbn decid start vlog per request current manila ab cbn chicken pork',\n",
       "       'pauwi nako c dawg ft yuri dope flow g lyric video pauwi nako pauwinako pdl ocd exb itun http itun appl com album id spotifi',\n",
       "       'bizarr food hd amsterdam netherland partner https www book map com free easi servic travel realli help peopl find hotel near',\n",
       "       'preston year old love jesus play video game live busi inquiri pleas send',\n",
       "       'cardi b bad bunni j balvin like offici music video cardi b bad bunni j balvin like cardi b debut album invas privaci avail stream download',\n",
       "       'dj snake magenta riddim stream download magenta riddim http smarturl magentariddim direct vania heymann gal muggia',\n",
       "       'macklemor feat lil yachti marmalad offici music video gemini avail http smarturl macklemoregemini direct jason koenig ben haggerti produc',\n",
       "       'youtub famili adventur get adventur merch https theadventuresguid com welcom youtub famili fun crazi',\n",
       "       'missouri univers scienc technolog electromagnet compat consortium wikip audio version wikipedia articl https en wikipedia org wiki',\n",
       "       'theoddsout use draw pictur paint tool sai edit adob premier realli use anim',\n",
       "       'creator collabor spooki travel stori halloween welcom anoth wrabbit hole travel creator collabor time celebr halloween share',\n",
       "       'plastic pollut human turn world plastic modern life would imposs without plastic long sinc lost control invent plastic',\n",
       "       'gacha stori miss peic ep se song https youtub com result searchqueri long day song',\n",
       "       'best food scale top best cheap digit food scale kitchen best food scale top best cheap digit food scale kitchen greet look best food scale ozeri',\n",
       "       'powel manufactur compani wikipedia audio articl audio version wikipedia articl https en wikipedia org wiki powellmanufacturingcompani',\n",
       "       'waqa ali sketch imag friend friend request made imag hope enjoy video let tell pictur',\n",
       "       'cardi b bad bunni j balvin like offici music video cardi b bad bunni j balvin like cardi b debut album invas privaci avail stream download',\n",
       "       'cruis liner queen mari transatlant travel cruis qm queenmari embark queen mari day voyag southampton uk new york citi',\n",
       "       'rajasthan board th art result rbse th art commerc scienc result rajasthan board higher secondari educ th exam art scienc commerc result declar soon visit',\n",
       "       'america world war crash cours us histori direct support crash cours https www patreon com crashcours subscrib littl keep',\n",
       "       'lexaria bioscienc see posit result studi use dehydratech technolog lexaria bioscienc cse lxx otcqx lxrp presid john docherti join steve darl proactiv investor vancouv',\n",
       "       'plastic pollut human turn world plastic modern life would imposs without plastic long sinc lost control invent plastic',\n",
       "       'mewar udaipur travel video video made akshay mathuriya https www instagram com akshaykumaroffici hl en iftikhar rangrej',\n",
       "       'world ralli championship wikipedia audio articl audio version wikipedia articl https en wikipedia org wiki worldrallychampionship',\n",
       "       'scientif technolog research council turkey wikipedia audio articl audio version wikipedia articl https en wikipedia org wiki',\n",
       "       'post malon rockstar ft savag crankdat remix post malon rockstar ft savag crankdat remix https postmalon lnk rsyd trap nation limit apparel',\n",
       "       'ryan play tag ryan game ipad mommi ryan vs mommi score higher challeng ryan play tag ryan game ipad mommi ryan vs mommi score higher challeng ryan made game',\n",
       "       'dream art parti idea magic band welcom happi sourc love fresh idea music wed inspir event uniqu thing',\n",
       "       'warren g parti throw ft nate dogg game offici music video skee tv present warren g parti thrown featur late nate dogg game direct freder',\n",
       "       'rihanna hard believ rihanna year old yet within year sinc start music career becom',\n",
       "       'meal prep easi healthi mom sahm hey guy welcom back anoth meal idea video typic meal prep sunday monday tuesday alway plan',\n",
       "       'lego ronin part norman leggodt ronin thoma drive team defeat doctor dont care subscrib lego video thank',\n",
       "       'voldemort origin heir unoffici fanfilm hd subtitl enemi heir bewar subtitl avail click gear icon select languag share pictur',\n",
       "       'ecuador mission trip hard describ emot go mission trip actual second mission trip first sever',\n",
       "       'hho generat water fuel convert project let build sexi look generat use electr convert water extrem power fuel',\n",
       "       'die antwoord banana brain offici video new album mount ninji da nice time kid get https dieantwoord lnk mountninjiyd subscrib',\n",
       "       'yd breast stroke read descript stori stori time caleb yard breast stroke video may seem slow know',\n",
       "       'spring break visit miramar castl travel video hey spring break went koper castello di miramar triest day best time',\n",
       "       'ate sweet food hour challeng ate sweet hour instagram nathaliebear tik tok nathali bearzz snapchat nathaliebear mariela',\n",
       "       'neffex music want creat share motiv peopl get dream origin music avail copyright free',\n",
       "       'jaiden anim hey jaiden sidekick name ari brat thank stoppin use adob flash anim recommend',\n",
       "       'cotabato foundat colleg scienc technolog wikipedia audio articl audio version wikipedia articl https en wikipedia org wiki',\n",
       "       'make walk robot measur format abodyhttp viid qxydtylegshttp viid qxyanymus tobu hope ncs releas',\n",
       "       'sia cheap thrill ft sean paul lyric video sia cheap thrill ft sean paul itun http smarturl siaspct iqid yt spotifi http smarturl siaspctsp iqid yt',\n",
       "       'rise isi explain minut histori goe back way group ever exist subscrib channel http goo gl bsajoin short',\n",
       "       'best vacat yet go vacat africa take us trip karina ronald vlog trip south',\n",
       "       'reviewbrah run empti food review compil wait say check main man ladi gentlemen',\n",
       "       'new year nail art collab dearnatur dearnatur tutori https www youtub com watch v fhxafl dearnatur',\n",
       "       'hemoglobin increas food telugu health tip telugu good health hemoglobin increas food telugu veget spinach beetroot broccoli potato fruit watermelon appl pomegran',\n",
       "       'go usa go usa los angel comment know go sis vs bro instagram',\n",
       "       'cook best sierra leonian cassava leaf soup salon food pleas dont forget add ig https www instagram com thatblack sub channel',\n",
       "       'green lantern hal jordan histori origin green lantern hal jordan histori originsgreen lantern origin hal jordan green lantern hal jordan earth first green',\n",
       "       'ntr kathanayakudu biopic real life stori ntr teluguon ntr kathanayakudu biopic watch enjoy check tribut viswa vikyatha nata sarvabhouma telugu legend ntr',\n",
       "       'mqpack balan dosadora de ltiplo cabe ote fruta congelada morango iqf balan de ltiplo cabe ote mqpack especializada em balan multicab ote e quina derivada abrangendo',\n",
       "       'thing kuala lumpur malaysia travel guid join us visit kuala lumpur explor best thing citi kuala lumpur travel guid',\n",
       "       'sheikh fazilatunnesa mujib univers scienc technolog wikipedia audio articl audio version wikipedia articl https en wikipedia org wiki',\n",
       "       'xxxtentacion bad audio stream https empir lnk badsingleyo pre order skin https empir lnk skin written jahseh onfroy john',\n",
       "       'mukbang food food fair hannah zaria hi',\n",
       "       'comedi derockscomedi divin food seri derockscomedi divin food seri even without watch seri titl know base free food',\n",
       "       'issu scienc technolog wikipedia audio articl audio version wikipedia articl https en wikipedia org wiki issuesinscienceandtechn',\n",
       "       'ali un wali ullah hussain jari al baqei product bismillah releas al baqei product exclus noha ali un wali ullah hd recitor hussain jari',\n",
       "       'comput integr manufactur wikipedia audio articl audio version wikipedia articl https en wikipedia org wiki comput integratedmanufac',\n",
       "       'mean life motion motiv thought mental health popular topic youtub seem life primarili head',\n",
       "       'coffe art coffe aunt snowday check minni small https www youtub com result searchqueri minni small',\n",
       "       'california institut technolog caltech campus tour caltech california institut technolog caltech campus tour california institut technolog caltech privat',\n",
       "       'speak peopl want listen julian treasur ever felt like talk nobodi listen julian treasur help fix sound',\n",
       "       'travel deep insid leaf annot version california academi scienc pleas turn subtitl cc close caption button see explanatori annot design educ',\n",
       "       'astrobiolog scienc technolog explor planet astep wikipedia audio articl audio version wikipedia articl https en wikipedia org wiki',\n",
       "       'easi art craft project kid make thumbprint art frame art craft project kid learn teach young children make thumbprint art frame art craft project get expert tip advic art',\n",
       "       'full rode trip himach pradesh ns karizma dream yuga trailer new video trailer trip delhi himach pradesh full rode adventur trip facebook',\n",
       "       'valentin day mix media art journal page two sister art valentin day come took opportun combin theme two sister art sampler box receiv',\n",
       "       'vexiq elem sci q score vex world vex iq elementari school scienc divis qualifi match team score roborunn',\n",
       "       'metallica spit bone offici music video album hardwir self destruct avail everywher novemb direct phil mucci cast mindi kelli',\n",
       "       'dude perfect best friend panda like sport comedi come join dude perfect team',\n",
       "       'queen naija offici stori told queen naija offici stori wild popular vlogger last year queen naija invit audienc',\n",
       "       'tedx talk tedx intern communiti organ ted style event anywher everywher celebr local driven idea',\n",
       "       'dr abdullah asif mustafai heart toch bayan new heart touch bayan dr abdullah asif mustafai ka rula dane wala bayan grand mehfil e milad lahor best',\n",
       "       'honda manufactur alabama wikipedia audio articl audio version wikipedia articl https en wikipedia org wiki hondamanufacturingofalabama',\n",
       "       'fgteev fgteev famili game team bring premier youtub channel famili gamer meet fgteev duddi wife',\n",
       "       'modiran vehicl manufactur compani wikipedia audio articl audio version wikipedia articl https en wikipedia org wiki modiranvehiclemanufacturi',\n",
       "       'histori poland world war wikipedia audio articl audio version wikipedia articl https en wikipedia org wiki historyofpolandduringwo',\n",
       "       'lol surpris scribbl boy doll want mall food play video cooki swirl c scribbl go mall lol surpris big sister oh boy forgot eat someth need eat',\n",
       "       'eye mix media art journal tribut patsi owner paper art art suppli use liquitex acryl ink pthalocyanin green turquois deep',\n",
       "       'kaun tujh dhoni untold stori guitar cover chord kaun tujh dhoni untold stori guitar cover chord vineet asansol',\n",
       "       'npr music offici youtub channel npr music featur tini desk concert live show documentari find',\n",
       "       'ancient egypt nation geograph ancient egyptian civil famous pyramid pharaoh mummi tomb flourish thousand year',\n",
       "       'case mark rothko art assign pbs digit studio case mark rothko rectangl rectangl rectangl rothko truli prolif artist found groov',\n",
       "       'desi ki yaari thakur product pleas friend video ko dekho hamar channel thakur rpfvs ko subscrib karo video ko like karo ho sake',\n",
       "       'abandon psychiatr hospit phantom follow us ghost stori take tour two abandon psychiatr hospit long island new york king park pilgrim state video',\n",
       "       'minh hi u travel kh ph du l ch japan b ng xe p ng h p nh ng tr l u hot h n h tr n tik tok japan',\n",
       "       'david guetta sia flame lyric video pre order new david guetta album https davidguetta lnk albumay buy listen http guetta co flame',\n",
       "       'electr car wors environ myth bust electr car greener gasolin power car fact electr car environ sponsor fewhat',\n",
       "       'call el aguant offici music video call el aguant buy call multivir itun www smarturl cmultivir director',\n",
       "       'aj tatheer ka duniya se jo ghamkhar chala imran baqar al baqei product bismillah releas al baqei product exclus noha aj tatheer ka duniya se jo ghamkhar chala',\n",
       "       'london centr histori scienc medicin technolog wikipedia audio articl audio version wikipedia articl https en wikipedia org wiki londoncentreforthehisto',\n",
       "       'best luggag lock ten best tsa approv travel luggag lock best luggag lock ten best tsa approv travel luggag lock greet find purcha durabl',\n",
       "       'ate white food hour challeng difficult ate white food hour challeng instagram nathaliebear snapchat nathaliebear tik tok nathali bearzz',\n",
       "       'beardmeatsfood beard eat feat monument proport home beardmeatsfood britain competit eater subscrib',\n",
       "       'insid philippin meth lab subscrib youtub channel free https sc mp kafuvj scmp gain exclus access meth lab alleg run',\n",
       "       'nation geograph inspir peopl care planet nation geograph world premium destin scienc explor',\n",
       "       'girl cup challeng ft dk anim denis alway ulrechk product channel dk anim https www youtub com result searchqueri dk anim denis alway',\n",
       "       'nation univers scienc technolog pakistan wikipedia audio articl audio version wikipedia articl https en wikipedia org wiki',\n",
       "       'comput network herald resourc share wikipedia audio articl audio version wikipedia articl https en wikipedia org wiki computernetwork',\n",
       "       'art project vlog thank watch video email lenzki garay gmail com follow facebook page',\n",
       "       'vrc engr q x n vs f vex world vrc high school engin divis qualifi match red score x leonida team',\n",
       "       'come tour casa batll haileyeliza stravel one mani mani favorit day trip got check visit casa batll bucket list thank much',\n",
       "       'rosanna pansino welcom channel rosanna pansino realli enjoy creat content youtub follow websit',\n",
       "       'san diego vacat travel guid expedia http www expedia com san diego destin travel guid welcom san diego often call birthplac',\n",
       "       'kati perri uncondit offici download uncondit kati perri prism http smarturl prism offici video kati perri uncondit',\n",
       "       'london k video footag own around world k licens stock footag http provideofactori com creat',\n",
       "       'post malon rockstar ft savag crankdat remix post malon rockstar ft savag crankdat remix',\n",
       "       'billi eilish bellyach listen bellyach dont smile http smarturl dontsmileatm listen fall asleep',\n",
       "       'scientif studi last week tonight john oliv hbo john oliv discuss media outlet often report untru incomplet inform scienc connect last',\n",
       "       'vice definit guid enlighten inform everi corner planet immers caustic ground break',\n",
       "       'food network welcom offici youtub channel food network food network foodnetwork com explor world food',\n",
       "       'lakshmi ntr movi trailer ntr true stori rgv yagna shetti kalyani malik agasthya manju lakshmi ntr movi trailer ntr true stori lakshmisntr ft p vijay kumar ntr yagna shetti lakshmi parvathi',\n",
       "       'vice definit guid enlighten inform everi corner planet immers caustic ground break',\n",
       "       'advanc scienc technolog bring ethic societ econom challeng ensur posit impact innov transform polici solv real world problem msc',\n",
       "       'chines food challeng z atlas vs lucki seven chines food challeng china blue restaur corval oregon day',\n",
       "       'lil peep save shit offici video offici save shit video come sober pt http lilpeep lnk sober produc',\n",
       "       'travel zimbabw april video mark begin journey life video travel zimbabw final intern',\n",
       "       'news youtub news destin featur comprehens date coverag latest top stori sport busi',\n",
       "       'safeti tip barcelona barcelona travel tip safeti tip barcelona like major citi visit barcelona import care',\n",
       "       'oporadhi ankur mahamud feat arman alif bangla new song offici video pk product pleas watch new video hope love made india guru randhawa naughti love stori cover aman prem',\n",
       "       'chad wild clay spi ninja team cwc vy qwaint daniel battl youtub hacker group project zorgo use',\n",
       "       'vlog trip mussoori day two wear subscrib youtub channel https goo gl trsjrafter share detail first day',\n",
       "       'ohio state march band ohio thru histori halftim show vs univers hawai ohio state march band ohio thru histori halftim show vs univers hawai welcom lantern tv',\n",
       "       'weird food combin ft rean hope guy enjoy video certain tell us want us film part enjoy video pleas',\n",
       "       'dashiegam comedi game commentari lot bad word',\n",
       "       'cochin univers scienc technolog wikipedia audio articl audio version wikipedia articl https en wikipedia org wiki cochinuniversityofscienc',\n",
       "       'meghan trainor bass offici music video meghan trainor offici music video bass click listen meghan trainor spotifi',\n",
       "       'norwegian museum scienc technolog wikipedia audio articl audio version wikipedia articl https en wikipedia org wiki norwegianmuseumofsci',\n",
       "       'egypt journey nile egypt famous ancient civil world famous monument includ giza pyramid complex',\n",
       "       'comput scienc part https www youtub com watch v q vqxugdhqin part video comput scienc cover program',\n",
       "       'halsey without without avail https halsey lnk withoutmeyd listen spotifi https halsey lnk withoutmeyd spotifi listen',\n",
       "       'crispr video paul andersen explain crispr cas immun system identifi bacteria crispr cas',\n",
       "       'fanci ladi funjoy link music video https www youtub com result searchqueri fanci ladi funjoy',\n",
       "       'meddi slowli offici video download slowli http smarturl umvww meddi momus follow meddi websit https www meddymus com',\n",
       "       'lol surpris scribbl boy doll want mall food play video cooki swirl c scribbl go mall lol surpris big sister oh boy forgot eat someth need eat',\n",
       "       'best video lefkada holiday greec travel drone amaz place subskrybuj j kana instagram https www instagram com cameralovestudio https www instagram com piotr zawila',\n",
       "       'lego stori lego group celebr th birthday take look back histori short anim film find',\n",
       "       'kathirikkai recip eggplant recip natur cook sutta kathirikkai weekend special held dubai mushrif park also made baba ganoush paneer tikka lamb kebab fun travel',\n",
       "       'histori english combin take look histori english languag combin part seri one video',\n",
       "       'need prepar food requir sure left click open link new window note micro green section video meant say day',\n",
       "       'lubin manufactur compani wikipedia audio articl audio version wikipedia articl https en wikipedia org wiki lubinmanufacturingcompani',\n",
       "       'gulf coast exploreum scienc center wikipedia audio articl audio version wikipedia articl https en wikipedia org wiki gulfcoastexploreumscienc',\n",
       "       'theradbrad king youtub walkthrough fmv magazin',\n",
       "       'plane fli faster get free day free trial free audiobook audibl http www audibl com wendoversupport wendov',\n",
       "       'dunkin donut meet up like comment subscrib stalk instagram https www instagram com alan arg snapchat alanthekid',\n",
       "       'homemad dog food recip easi make balanc homemad adult dog food meal find https facebook com planetpaw ca',\n",
       "       'make playdoh food crate creatur surpris lol surpris punk boi lol surpris doll punk boi found giant crate creatur bigger louder ever monster look',\n",
       "       'mbeya univers scienc technolog wikipedia audio articl audio version wikipedia articl https en wikipedia org wiki mbeyauniversityofsci',\n",
       "       'idea camel realli come latif nasser camel well adapt desert hard imagin live anywher els peg',\n",
       "       'mix media tag two sister art part two sister art sampler vox tag swap tag creat use product march box info go',\n",
       "       'collin jax fake ft fibr best edm song non copyright music free song song copyright manufactur',\n",
       "       'million danc studio south korea seoul million danc studio',\n",
       "       'alan walker differ world feat sofia carson k corsak lyric video walker excit final releas new singl differ world talent sofia carson k corsak',\n",
       "       'scienc technolog facil council wikipedia audio articl audio version wikipedia articl https en wikipedia org wiki scienceandtechnologyfaci',\n",
       "       'avinabawa visakha vidyalaya colombo art day present origin music credit domin lewi https www youtub com result searchqueri domin lewi',\n",
       "       'stole princ famili food ft jprinc jr got real dcherbo herbogang jprincejr make sure like comment subscrib make sure subscrib channel',\n",
       "       'untold stori emmett lui till documentari keith beauchamp like page mami till mobley foundat facebook www facebook com mamietillmobleyfound never seen',\n",
       "       'filipino food spici chicken adobo cookbang mukbang hey spicegang today favorit filipino dish chicken adobo ad chili chili powder recip',\n",
       "       'euro trip w ann mari mellogang trip europ amaz great see mani smile face mellogang crowd joytim ii',\n",
       "       'uchi rang prinoor shergil ft deep arjun bhullar navv product latest punjabi song uchirang prinoorshergil latestpunjabisong present latest song song uchi rang sung prinoor shergil music',\n",
       "       'linus tech tip make entertain video technolog includ tech review showcas content linustechtip gmail com',\n",
       "       'messyourself name messyourself mess make funni moment video youtub play wide rang game twitter',\n",
       "       'bill machin manufactur chennai tamil nadu judeequipmentpvtltd judeequipmentpvtltd lead billingmachinesmanufactur desktopbillingmachinesuppli chennai',\n",
       "       'daili communic side art hustl daili communic side art hustl must start document averag day see',\n",
       "       'map comput scienc field comput scienc summaris learn video sponsor https brilliant org doscomput scienc',\n",
       "       'free websit design video free websit design video acksnak cksn k mean supers cksnak brand free websit design',\n",
       "       'juic wrld lucid dream dir colebennett juic wrld lucid dream juic wrld channel http bit ly juicewrld http smarturl luciddreamsjw song produc',\n",
       "       'juic wrld juic wrld offici channel chicago area hip hop musician juic wrld deliv introspect lyric atop melod',\n",
       "       'asmr wendi trippl bacon enjoy delici intens sound asmr check famili eat channel https www youtub com channel',\n",
       "       'process control wikipedia audio articl audio version wikipedia articl https en wikipedia org wiki processcontrol histori',\n",
       "       'carrot cake debbi dung yaad ingredi cup light veget oil larg egg cup granul sugar cup purpos flour tsp cinnamon tsp nutmeg',\n",
       "       'cheap bodybuild food bodybuild budget save money follow bodybuild diet plan free diet plan http tinyurl com ochrtzr facebook',\n",
       "       'scienc technolog studi wikipedia audio articl audio version wikipedia articl https en wikipedia org wiki scienceandtechnologystudi',\n",
       "       'sword art onlin cross field op english cover leav comment subscrib support video get music selfmad backingtrack',\n",
       "       'collin key new video everi saturday pst collin key post funni comedi famili friend video learn',\n",
       "       'day gulftain missil travel iran ferri https www timesofisrael com former mk say iran stole https www thedailybeast com',\n",
       "       'find food china may kunm china mike mah speaker author adventur respect natur health person safeti',\n",
       "       'blend food vs real food cenachip thank watch make sure subcrib brother watch challeng channel demetri channel',\n",
       "       'eye mix media art journal tribut patsi owner paper art art suppli use liquitex acryl ink pthalocyanin green turquois deep',\n",
       "       'aerospac industri associ wikipedia audio articl audio version wikipedia articl https en wikipedia org wiki aerospaceindustriesassoci',\n",
       "       'travel adventur bumpi mountain kolukkumalai tamil nadu india follow facebook authent journey http www facebook com authenticjourney kolukkumalai loos translat',\n",
       "       'dr abdullah asif mustafai heart toch bayan new heart touch bayan dr abdullah asif mustafai ka rula dane wala bayan grand mehfil e milad lahor best',\n",
       "       'dark tourist offici trailer hd netflix definit tourism redefin new zealand filmmak david farrier journey darkest corner',\n",
       "       'indian institut space scienc technolog thiruvananthapuram wikipedia audio articl audio version wikipedia articl https en wikipedia org wiki',\n",
       "       'pocket travel luggag scale live demo video judeequipmentpvtltd chennai pockettravelluggagescal kg capac best price offer livedemo popular call',\n",
       "       'luxuri pho vietnam take pho next level exot hanoi food https www youtub com watch v lhjlgxe learn onetrip tour',\n",
       "       'thank cristiano ronaldo real madrid offici video real madrid c f inform per cristiano ronaldo wish request club allow player',\n",
       "       'dinobrick studio channel trailer subscrib lego video thank subscrib never done subscrib youtub channel',\n",
       "       'tri food around world hey guy gal video friend reja tri food around world yum instagram',\n",
       "       'time time bring unparallel insight access author news news public near centuri experi',\n",
       "       'hour movi latest nigeria nollywood movi dynam uniqu onlin platform compris visionari film maker sole intent bring best',\n",
       "       'kanjoo papa short movi funni hindi stori kid type father aayu pihu show sorri friend comment still enabl hope start back soon love',\n",
       "       'first time philippin first impress philippin never philippin know expect philippin import better plan',\n",
       "       'scienc technolog ukrain wikipedia audio articl audio version wikipedia articl https en wikipedia org wiki scienceandtechnologyinu',\n",
       "       'exam ki tension moral stori kid tip exam kid exam month final examin import us must give give us result',\n",
       "       'pack suitcas smart pack travel tip subscrib http www youtub com subscriptioncent addus ehow watch http www youtub com ehow',\n",
       "       'bob ross offici youtub channel joy paint bob ross watch paint along everi episod joy',\n",
       "       'skrillex clutter home studio downtown los angel art district mere block wrote scari monster nice',\n",
       "       'real food vs gummi food challeng halloween special ttsquad follow music littlett sure hit notif bell toysandm new merch',\n",
       "       'histori buff soldier https www facebook com historybuffslondon https twitter com historybuff next episod august th',\n",
       "       'ministri educ cultur sport scienc technolog japan wikipedia audio articl audio version wikipedia articl https en wikipedia org wiki ministryofeduc cult',\n",
       "       'world greatest drag race back world greatest drag race return world best supercar sport car face epic',\n",
       "       'dream art parti idea magic band welcom happi sourc love fresh idea music wed inspir event uniqu thing',\n",
       "       'easi tasti white sauc pasta want recipi comment https youtub com channel ucnkubbhfqr suvea',\n",
       "       'travel trailer promo like video subscrib http bit ly northerworld promo edit trailer soon avail follow news documentari',\n",
       "       'centr histori scienc technolog medicin wikipedia audio articl audio version wikipedia articl https en wikipedia org wiki centreforthehistoryof',\n",
       "       'civil war part crash cours us histori john green actual teach civil war part one two part look us civil war john look',\n",
       "       'dumpster dive fanci chocol expens dog food free https www youtub com result searchqueri dumpsterd https www youtub com result searchqueri baladydog',\n",
       "       'chicago downtown travel minut https www youtub com result searchqueri nosmallcr music https',\n",
       "       'surstr mming surstr mming adventur carl jinger phamdamili tri eat surstrom ferment fish best smell',\n",
       "       'yemeni univers scienc technolog wikipedia audio articl audio version wikipedia articl https en wikipedia org wiki universityofscienceandt',\n",
       "       'bird bandwan last weekend januari went bandwan bird littl effort bird sight trek jungl',\n",
       "       'forg ring roll open die forg hammer forg kihlsteel se view video forg process open die forg produc forg pound ton',\n",
       "       'khmer sandwich ham chees asain food khmer street food khmer sandwich ham chees asain food khmer street food',\n",
       "       'power ranger dino charg episod season recap superhero histori neo saban dinosaur power ranger dino charg stori recap featur scene episod watch power ranger bond energem',\n",
       "       'car bybel busi inquiri pleas contact seth carlibybelpr gmail com',\n",
       "       'learn english stori beauti beast level rich merchant three son three daughter one children daughter beauti special kind heart',\n",
       "       'led bulb manufactur unit niravu kannadi novemb part three led bulb manufactur unit niravu resid associ vengeri kozhikod kannadi novemb part three',\n",
       "       'frozen fail art right inc latest cultur polit philosophi debat psychologist dr jordan b peterson comment',\n",
       "       'ultim diet food squash soup serg ultim diet food best food lose weight food mani calori tasti fill',\n",
       "       'fri chicken lil j channel https www youtub com result searchqueri jaysen corbett',\n",
       "       'waterloo manufactur compani wikipedia audio articl audio version wikipedia articl https en wikipedia org wiki waterloomanufacturingcompani',\n",
       "       'tag along apolog pictur qualiti video ok brilliant think upload wrong set joyc channel',\n",
       "       'human need appli support grey make video https www patreon com cgpgrey robot etc terex port autom',\n",
       "       'last leaf english stori english fairi tale last leaf english stori english stori fairi tale english bedtim stori fairi tale k uhd english fairi',\n",
       "       'toy school field trip real toy r us pretend class go field trip today girl super excit miss luci special day plan',\n",
       "       'iran tractor manufactur compani wikipedia audio articl audio version wikipedia articl https en wikipedia org wiki irantractormanufactur',\n",
       "       'texa tech univers health scienc center school alli health scienc wikipedia audio audio version wikipedia articl https en wikipedia org wiki texastechuniversityhealt',\n",
       "       'vex world vrc high school technolog qual vs b b vex world vrc high school technolog qual red score robosavag gladston secondari',\n",
       "       'art lott reinig part document dond muestran como hac lott reinig sus pelicula con silueta de cartulina negra la pelicula que pone de',\n",
       "       'tag cancion cancion taxi https www youtub com watch v qrp dsmwi see https www youtub com watch v xiivtinbf persona',\n",
       "       'art attack season episod disney india offici art attack british children televis seri revolv around art video gaurav juyal dost host',\n",
       "       'bone alic chain fan art music video alic chain aic bone fan made art video video entertain purpos make',\n",
       "       'coldplay offici youtub channel coldplay live album concert film documentari butterfli packag head full',\n",
       "       'aye jad e buzurgwaram ali safdar al baqei product bismillah releas al baqei product exclus noha aye jad e buzurgwaram hd recitor ali',\n",
       "       'must visit place port blair port blair south andaman island capit citi andaman nicobar island indian territori bay bengal',\n",
       "       'tesla model full review perform racetrack vs road drive test subscrib https www youtub com user autogefuehl subconfirm subscrib nd channel shorter',\n",
       "       'sada e ya hussain ali safdar bismillah releas al baqei product exclus noha sada e ya hussain hd recitor ali',\n",
       "       'alexand great situat great crash cours world histori introduc life accomplish alexand great empir hors bucephalus',\n",
       "       'prepar czech food hubbi delici fil czech coupl familyvlog czechfood homolastv hello everyon name kate filipina husband czech republ one daughter name nilda kate',\n",
       "       'real food vs gummi food challeng halloween special ttsquad follow music littlett sure hit notif bell toysandm new merch',\n",
       "       'travel day barcelona day haileyeliza stravel took plane belgium spain meet famili spent afternoon site see barcelona thank much',\n",
       "       'american picker mike donna histori monday c histori join us meet mike donna american picker histori reach'], dtype=object)"
      ]
     },
     "execution_count": 11,
     "metadata": {},
     "output_type": "execute_result"
    }
   ],
   "source": [
    "print(x_test.shape)\n",
    "x_test"
   ]
  },
  {
   "cell_type": "code",
   "execution_count": 12,
   "metadata": {
    "collapsed": false,
    "deletable": true,
    "editable": true
   },
   "outputs": [
    {
     "name": "stdout",
     "output_type": "stream",
     "text": [
      "1494\n",
      "[0 1 4 ..., 3 0 3]\n",
      "374\n",
      "[1 1 5 4 4 4 2 2 1 1 0 1 0 5 2 2 3 0 0 3 5 5 2 2 4 4 0 5 5 0 5 1 5 0 0 0 2\n",
      " 3 2 3 3 2 5 3 1 2 4 4 3 1 0 2 4 2 1 5 2 4 2 1 0 1 1 3 3 0 4 3 4 4 3 0 0 3\n",
      " 0 5 1 0 5 3 2 2 4 2 2 3 3 2 5 4 1 5 3 3 2 4 0 5 4 5 2 2 5 2 1 3 2 5 3 5 0\n",
      " 4 3 5 3 4 4 0 1 2 2 2 5 1 3 4 3 0 5 2 4 5 3 0 5 1 5 0 2 4 2 3 5 5 0 5 4 1\n",
      " 1 0 3 1 5 1 5 0 5 2 3 4 0 3 3 4 0 2 5 0 1 1 0 4 0 2 5 2 0 2 4 4 3 0 1 5 2\n",
      " 2 1 3 3 3 5 1 4 0 1 5 0 5 1 3 0 4 3 3 3 3 3 4 2 5 4 3 4 5 3 4 0 3 3 3 3 1\n",
      " 0 2 2 3 0 3 1 1 5 1 0 0 0 5 0 5 5 1 3 2 4 5 1 2 3 0 5 0 3 0 0 4 2 5 1 0 1\n",
      " 0 1 5 1 3 3 2 0 4 2 4 2 3 1 0 3 2 2 2 1 4 5 3 5 4 1 5 2 4 2 0 3 1 3 3 5 1\n",
      " 1 5 5 2 3 2 2 1 5 5 0 2 2 5 3 0 3 0 1 0 2 4 3 2 1 3 4 0 1 4 0 5 5 2 4 1 3\n",
      " 4 2 0 1 4 2 0 2 1 0 3 2 4 5 4 3 5 2 2 3 5 3 4 0 3 1 1 5 4 5 5 4 3 0 0 3 4\n",
      " 2 2 0 4]\n"
     ]
    }
   ],
   "source": [
    "print(len(y_train))\n",
    "print(y_train)\n",
    "print(len(y_test))\n",
    "print(y_test)"
   ]
  },
  {
   "cell_type": "code",
   "execution_count": 73,
   "metadata": {
    "collapsed": false,
    "deletable": true,
    "editable": true
   },
   "outputs": [],
   "source": [
    "# x_trai = x_train.values\n",
    "# print(x_trai)"
   ]
  },
  {
   "cell_type": "markdown",
   "metadata": {
    "deletable": true,
    "editable": true
   },
   "source": [
    "# techniques"
   ]
  },
  {
   "cell_type": "code",
   "execution_count": 13,
   "metadata": {
    "collapsed": true,
    "deletable": true,
    "editable": true
   },
   "outputs": [],
   "source": [
    "from sklearn.feature_extraction.text import TfidfVectorizer"
   ]
  },
  {
   "cell_type": "code",
   "execution_count": 14,
   "metadata": {
    "collapsed": false,
    "deletable": true,
    "editable": true
   },
   "outputs": [
    {
     "data": {
      "text/plain": [
       "TfidfVectorizer(analyzer=u'word', binary=False, decode_error=u'strict',\n",
       "        dtype=<type 'numpy.float64'>, encoding=u'utf-8', input=u'content',\n",
       "        lowercase=True, max_df=1.0, max_features=None, min_df=1,\n",
       "        ngram_range=(1, 1), norm=u'l2', preprocessor=None, smooth_idf=True,\n",
       "        stop_words=None, strip_accents=None, sublinear_tf=False,\n",
       "        token_pattern=u'(?u)\\\\b\\\\w\\\\w+\\\\b', tokenizer=None, use_idf=True,\n",
       "        vocabulary=None)"
      ]
     },
     "execution_count": 14,
     "metadata": {},
     "output_type": "execute_result"
    }
   ],
   "source": [
    "vectorizer = TfidfVectorizer()\n",
    "vectorizer.fit(x_train)"
   ]
  },
  {
   "cell_type": "code",
   "execution_count": 15,
   "metadata": {
    "collapsed": false,
    "deletable": true,
    "editable": true
   },
   "outputs": [
    {
     "name": "stdout",
     "output_type": "stream",
     "text": [
      "(1494, 5055)\n"
     ]
    }
   ],
   "source": [
    "x_train_vec = vectorizer.transform(x_train)\n",
    "print(x_train_vec.shape)\n",
    "# print(x_train_vec)"
   ]
  },
  {
   "cell_type": "code",
   "execution_count": 16,
   "metadata": {
    "collapsed": false,
    "deletable": true,
    "editable": true
   },
   "outputs": [
    {
     "name": "stdout",
     "output_type": "stream",
     "text": [
      "(374, 5055)\n"
     ]
    }
   ],
   "source": [
    "x_test_vec = vectorizer.transform(x_test)\n",
    "print(x_test_vec.shape)\n",
    "# print(x_test_vec)"
   ]
  },
  {
   "cell_type": "markdown",
   "metadata": {},
   "source": [
    "# evaluation matric function"
   ]
  },
  {
   "cell_type": "code",
   "execution_count": 40,
   "metadata": {
    "collapsed": true
   },
   "outputs": [],
   "source": [
    "from sklearn.metrics import accuracy_score\n",
    "from sklearn.metrics import recall_score\n",
    "from sklearn.metrics import precision_score\n",
    "from sklearn.metrics import f1_score\n",
    "from sklearn.metrics import classification_report\n",
    "from sklearn.metrics import confusion_matrix\n",
    "from sklearn.metrics import roc_curve\n",
    "from sklearn.metrics import auc\n",
    "from sklearn.metrics import roc_auc_score\n",
    "\n",
    "def plot_confusion_matrix(confusion_mat):\n",
    "    sb.heatmap(confusion_mat, annot=True, fmt='g')\n",
    "    plt.xlabel('True label')\n",
    "    plt.ylabel('Predicted label')\n",
    "    plt.title('Confusion matrix')\n",
    "    plt.show()\n",
    "    \n",
    "    \n",
    "    \n",
    "def evaluation_metric(y_test, pred):\n",
    "    \n",
    "    accuracy = accuracy_score(y_test, pred)\n",
    "    print 'Accuracy: '+str(accuracy)\n",
    "    \n",
    "#     print 'Recall: '+str(recall_score(y_test, pred))\n",
    "#     print 'Precision: '+str(precision_score(y_test, pred))\n",
    "#     print 'f1_score: '+str(f1_score(y_test, pred))\n",
    "\n",
    "    print 'classificatoin report'\n",
    "    print classification_report(y_test, pred)\n",
    "    \n",
    "    # confusion matrix visualisation\n",
    "    from sklearn.metrics import confusion_matrix\n",
    "    confusion_mat = confusion_matrix(pred, y_test)\n",
    "    print confusion_mat\n",
    "    plot_confusion_matrix(confusion_mat)\n",
    "    \n",
    "    "
   ]
  },
  {
   "cell_type": "markdown",
   "metadata": {
    "deletable": true,
    "editable": true
   },
   "source": [
    "# MultinomialNB"
   ]
  },
  {
   "cell_type": "code",
   "execution_count": 18,
   "metadata": {
    "collapsed": true,
    "deletable": true,
    "editable": true
   },
   "outputs": [],
   "source": [
    "from sklearn.naive_bayes import MultinomialNB\n",
    "clf = MultinomialNB()"
   ]
  },
  {
   "cell_type": "code",
   "execution_count": 19,
   "metadata": {
    "collapsed": false,
    "deletable": true,
    "editable": true
   },
   "outputs": [
    {
     "data": {
      "text/plain": [
       "MultinomialNB(alpha=1.0, class_prior=None, fit_prior=True)"
      ]
     },
     "execution_count": 19,
     "metadata": {},
     "output_type": "execute_result"
    }
   ],
   "source": [
    "clf.fit(x_train_vec, y_train)"
   ]
  },
  {
   "cell_type": "code",
   "execution_count": 22,
   "metadata": {
    "collapsed": false,
    "deletable": true,
    "editable": true
   },
   "outputs": [
    {
     "name": "stdout",
     "output_type": "stream",
     "text": [
      "[5 1 5 0 4 1 2 2 0 1 4 1 5 2 2 2 3 1 0 1 5 5 2 5 4 5 3 0 5 5 5 1 3 0 0 0 2\n",
      " 3 2 1 3 2 3 5 1 2 4 4 3 1 3 2 5 2 4 5 2 4 2 1 0 1 1 3 1 0 4 3 4 5 3 0 0 3\n",
      " 3 0 1 4 3 3 2 2 4 2 2 3 3 2 5 1 3 3 1 1 2 4 1 5 3 5 2 1 5 2 1 3 2 4 5 5 0\n",
      " 4 3 5 3 3 5 0 1 2 2 2 5 1 3 4 3 0 3 2 5 5 3 3 2 1 5 0 4 4 2 3 5 5 0 5 4 3\n",
      " 4 0 1 1 5 1 5 0 5 2 3 5 0 5 5 4 0 2 5 5 1 3 0 3 0 2 5 2 0 2 4 2 3 0 1 3 2\n",
      " 2 1 3 1 1 2 1 5 1 1 5 0 5 1 5 5 4 5 5 1 5 3 1 2 5 4 5 1 5 3 0 0 3 3 3 3 1\n",
      " 0 2 2 3 1 3 1 1 5 1 0 2 0 3 0 5 5 1 0 2 4 0 1 2 3 0 4 0 3 5 0 1 2 0 1 0 1\n",
      " 1 1 5 1 2 5 2 0 3 2 4 2 3 1 4 2 2 2 2 1 5 5 3 3 5 1 5 2 5 2 0 3 1 4 3 5 1\n",
      " 3 5 5 2 1 2 2 1 5 5 0 2 2 5 3 0 5 0 1 0 2 5 3 2 4 3 4 0 1 4 0 5 5 2 4 1 4\n",
      " 5 2 3 1 4 2 3 2 1 3 3 2 4 2 4 3 5 2 2 3 5 2 4 0 3 1 1 5 2 5 5 5 3 0 2 3 4\n",
      " 2 2 0 4]\n"
     ]
    }
   ],
   "source": [
    "pred = clf.predict(x_test_vec)\n",
    "print(pred)"
   ]
  },
  {
   "cell_type": "code",
   "execution_count": 41,
   "metadata": {
    "collapsed": false,
    "deletable": true,
    "editable": true
   },
   "outputs": [
    {
     "name": "stdout",
     "output_type": "stream",
     "text": [
      "Accuracy: 0.719251336898\n",
      "classificatoin report\n",
      "              precision    recall  f1-score   support\n",
      "\n",
      "           0       0.84      0.66      0.74        64\n",
      "           1       0.68      0.83      0.75        54\n",
      "           2       0.85      0.96      0.90        67\n",
      "           3       0.66      0.62      0.64        71\n",
      "           4       0.72      0.52      0.60        54\n",
      "           5       0.60      0.72      0.65        64\n",
      "\n",
      "   micro avg       0.72      0.72      0.72       374\n",
      "   macro avg       0.72      0.72      0.71       374\n",
      "weighted avg       0.73      0.72      0.72       374\n",
      "\n",
      "[[42  1  0  1  2  4]\n",
      " [ 5 45  1 10  5  0]\n",
      " [ 2  0 64  3  2  4]\n",
      " [ 7  4  0 44  4  8]\n",
      " [ 3  3  1  2 28  2]\n",
      " [ 5  1  1 11 13 46]]\n"
     ]
    },
    {
     "data": {
      "image/png": "[encoded data removed]",
      "text/plain": [
       "<matplotlib.figure.Figure at 0x7f502df12c10>"
      ]
     },
     "metadata": {},
     "output_type": "display_data"
    }
   ],
   "source": [
    "evaluation_metric(y_test, pred)"
   ]
  },
  {
   "cell_type": "markdown",
   "metadata": {
    "deletable": true,
    "editable": true
   },
   "source": [
    "# random forest"
   ]
  },
  {
   "cell_type": "code",
   "execution_count": 32,
   "metadata": {
    "collapsed": false,
    "deletable": true,
    "editable": true
   },
   "outputs": [],
   "source": [
    "from sklearn.ensemble import RandomForestClassifier\n",
    "rdf = RandomForestClassifier(n_estimators=250, max_depth=5, random_state=0)"
   ]
  },
  {
   "cell_type": "code",
   "execution_count": 33,
   "metadata": {
    "collapsed": false,
    "deletable": true,
    "editable": true
   },
   "outputs": [
    {
     "data": {
      "text/plain": [
       "RandomForestClassifier(bootstrap=True, class_weight=None, criterion='gini',\n",
       "            max_depth=5, max_features='auto', max_leaf_nodes=None,\n",
       "            min_impurity_decrease=0.0, min_impurity_split=None,\n",
       "            min_samples_leaf=1, min_samples_split=2,\n",
       "            min_weight_fraction_leaf=0.0, n_estimators=250, n_jobs=None,\n",
       "            oob_score=False, random_state=0, verbose=0, warm_start=False)"
      ]
     },
     "execution_count": 33,
     "metadata": {},
     "output_type": "execute_result"
    }
   ],
   "source": [
    "rdf.fit(x_train_vec, y_train)"
   ]
  },
  {
   "cell_type": "code",
   "execution_count": 38,
   "metadata": {
    "collapsed": false,
    "deletable": true,
    "editable": true
   },
   "outputs": [
    {
     "name": "stdout",
     "output_type": "stream",
     "text": [
      "[3 3 5 3 4 1 2 0 3 1 4 1 3 3 2 2 3 3 0 1 3 0 2 2 3 3 3 3 5 2 5 1 3 3 0 0 2\n",
      " 3 2 1 3 2 3 3 1 2 3 3 3 1 2 2 3 2 3 3 2 3 2 1 3 1 1 3 1 3 4 3 3 3 3 0 0 3\n",
      " 3 3 3 3 3 3 2 2 3 3 2 4 3 2 5 3 3 3 3 1 2 3 1 4 3 3 2 3 3 2 1 3 2 3 3 5 0\n",
      " 3 3 5 3 4 3 0 1 2 2 2 3 3 3 4 3 0 3 2 3 5 3 3 3 1 5 4 3 4 0 3 3 5 0 5 4 3\n",
      " 3 0 1 1 3 1 5 3 3 2 3 3 0 3 3 4 0 2 5 3 1 3 3 3 0 2 5 2 3 2 3 4 3 0 1 3 2\n",
      " 2 1 3 3 3 5 1 3 0 1 5 0 5 1 3 3 4 3 3 1 3 3 1 2 5 4 3 3 5 3 4 0 3 3 3 3 1\n",
      " 0 2 2 3 1 3 1 1 5 1 0 3 0 3 3 3 3 1 3 2 4 3 1 2 3 0 4 0 3 3 0 3 2 3 1 3 1\n",
      " 3 1 5 3 3 3 2 0 4 2 3 2 3 1 3 3 3 2 2 1 3 5 3 3 3 1 5 2 4 2 0 3 3 3 3 5 1\n",
      " 3 3 3 2 1 3 2 1 5 3 0 2 2 5 1 0 3 3 1 0 2 3 3 2 3 3 4 0 1 4 0 3 5 2 3 1 3\n",
      " 5 3 0 1 4 2 0 2 1 3 3 2 4 3 4 3 5 2 2 3 3 3 4 0 3 1 1 5 3 5 5 3 3 0 2 3 4\n",
      " 2 2 0 3]\n"
     ]
    }
   ],
   "source": [
    "pred_rdf = rdf.predict(x_test_vec)\n",
    "print(pred_rdf)"
   ]
  },
  {
   "cell_type": "code",
   "execution_count": 42,
   "metadata": {
    "collapsed": false
   },
   "outputs": [
    {
     "name": "stdout",
     "output_type": "stream",
     "text": [
      "Accuracy: 0.660427807487\n",
      "classificatoin report\n",
      "              precision    recall  f1-score   support\n",
      "\n",
      "           0       0.92      0.55      0.69        64\n",
      "           1       0.77      0.74      0.75        54\n",
      "           2       0.95      0.88      0.91        67\n",
      "           3       0.38      0.87      0.53        71\n",
      "           4       0.81      0.39      0.53        54\n",
      "           5       0.97      0.47      0.63        64\n",
      "\n",
      "   micro avg       0.66      0.66      0.66       374\n",
      "   macro avg       0.80      0.65      0.67       374\n",
      "weighted avg       0.79      0.66      0.67       374\n",
      "\n",
      "[[35  0  2  0  0  1]\n",
      " [ 2 40  0  8  2  0]\n",
      " [ 3  0 59  0  0  0]\n",
      " [22 14  6 62 30 31]\n",
      " [ 2  0  0  1 21  2]\n",
      " [ 0  0  0  0  1 30]]\n"
     ]
    },
    {
     "data": {
      "image/png": "[encoded data removed]",
      "text/plain": [
       "<matplotlib.figure.Figure at 0x7f502df10f50>"
      ]
     },
     "metadata": {},
     "output_type": "display_data"
    }
   ],
   "source": [
    "evaluation_metric(y_test, pred_rdf)"
   ]
  },
  {
   "cell_type": "code",
   "execution_count": null,
   "metadata": {
    "collapsed": true
   },
   "outputs": [],
   "source": []
  }
 ],
 "metadata": {
  "kernelspec": {
   "display_name": "Python 2",
   "language": "python",
   "name": "python2"
  },
  "language_info": {
   "codemirror_mode": {
    "name": "ipython",
    "version": 2
   },
   "file_extension": ".py",
   "mimetype": "text/x-python",
   "name": "python",
   "nbconvert_exporter": "python",
   "pygments_lexer": "ipython2",
   "version": "2.7.15"
  }
 },
 "nbformat": 4,
 "nbformat_minor": 2
}
