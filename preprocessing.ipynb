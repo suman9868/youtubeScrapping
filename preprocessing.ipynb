{
 "cells": [
  {
   "cell_type": "markdown",
   "metadata": {},
   "source": [
    "# header file included"
   ]
  },
  {
   "cell_type": "code",
   "execution_count": 3,
   "metadata": {
    "collapsed": false,
    "deletable": true,
    "editable": true
   },
   "outputs": [
    {
     "name": "stdout",
     "output_type": "stream",
     "text": [
      "done\n"
     ]
    }
   ],
   "source": [
    "import pandas as pd\n",
    "import numpy as np\n",
    "import seaborn as sb\n",
    "import matplotlib.pyplot as plt\n",
    "import re\n",
    "import nltk\n",
    "\n",
    "from nltk.corpus import stopwords\n",
    "stop = stopwords.words('english')\n",
    "\n",
    "from nltk.stem import PorterStemmer         \n",
    "snow = nltk.stem.SnowballStemmer('english')\n",
    "\n",
    "print('done')"
   ]
  },
  {
   "cell_type": "markdown",
   "metadata": {},
   "source": [
    "# data loading"
   ]
  },
  {
   "cell_type": "code",
   "execution_count": 4,
   "metadata": {
    "collapsed": false,
    "deletable": true,
    "editable": true
   },
   "outputs": [
    {
     "data": {
      "text/html": [
       "<div>\n",
       "<style scoped>\n",
       "    .dataframe tbody tr th:only-of-type {\n",
       "        vertical-align: middle;\n",
       "    }\n",
       "\n",
       "    .dataframe tbody tr th {\n",
       "        vertical-align: top;\n",
       "    }\n",
       "\n",
       "    .dataframe thead th {\n",
       "        text-align: right;\n",
       "    }\n",
       "</style>\n",
       "<table border=\"1\" class=\"dataframe\">\n",
       "  <thead>\n",
       "    <tr style=\"text-align: right;\">\n",
       "      <th></th>\n",
       "      <th>Video id</th>\n",
       "      <th>Title</th>\n",
       "      <th>Description</th>\n",
       "      <th>Category</th>\n",
       "    </tr>\n",
       "  </thead>\n",
       "  <tbody>\n",
       "    <tr>\n",
       "      <th>0</th>\n",
       "      <td>DU1BEo2GlnM</td>\n",
       "      <td>Day 193.2  Did Gulftainer Missiles Travel To I...</td>\n",
       "      <td>https://www.timesofisrael.com/former-mk-says-i...</td>\n",
       "      <td>travel</td>\n",
       "    </tr>\n",
       "    <tr>\n",
       "      <th>1</th>\n",
       "      <td>XatWIV-bWnA</td>\n",
       "      <td>Travel Hacks | Collab With Heyitsjemma</td>\n",
       "      <td>Hey hope you guys enjoyed I know this video is...</td>\n",
       "      <td>travel</td>\n",
       "    </tr>\n",
       "    <tr>\n",
       "      <th>2</th>\n",
       "      <td>p0-Sa6hK9ZU</td>\n",
       "      <td>Khánh Linh Travel #1 | Hạng Thương Gia Bamboo ...</td>\n",
       "      <td>Khánh Linh Travel Vlogs | Hạng Thương Gia Bamb...</td>\n",
       "      <td>travel</td>\n",
       "    </tr>\n",
       "    <tr>\n",
       "      <th>3</th>\n",
       "      <td>egjqs_6zvno</td>\n",
       "      <td>BEST VIDEO OF Lefkada | 2018 - HOLIDAY | Greec...</td>\n",
       "      <td>Subskrybuj mój kanał :) Instagram: https://www...</td>\n",
       "      <td>travel</td>\n",
       "    </tr>\n",
       "    <tr>\n",
       "      <th>4</th>\n",
       "      <td>abH6pFIp--Y</td>\n",
       "      <td>Vlog 7 | Traveling | Packing &amp; Storms | New Ad...</td>\n",
       "      <td>A hectic week, packing, teaching and getting a...</td>\n",
       "      <td>travel</td>\n",
       "    </tr>\n",
       "  </tbody>\n",
       "</table>\n",
       "</div>"
      ],
      "text/plain": [
       "      Video id                                              Title  \\\n",
       "0  DU1BEo2GlnM  Day 193.2  Did Gulftainer Missiles Travel To I...   \n",
       "1  XatWIV-bWnA             Travel Hacks | Collab With Heyitsjemma   \n",
       "2  p0-Sa6hK9ZU  Khánh Linh Travel #1 | Hạng Thương Gia Bamboo ...   \n",
       "3  egjqs_6zvno  BEST VIDEO OF Lefkada | 2018 - HOLIDAY | Greec...   \n",
       "4  abH6pFIp--Y  Vlog 7 | Traveling | Packing & Storms | New Ad...   \n",
       "\n",
       "                                         Description Category  \n",
       "0  https://www.timesofisrael.com/former-mk-says-i...   travel  \n",
       "1  Hey hope you guys enjoyed I know this video is...   travel  \n",
       "2  Khánh Linh Travel Vlogs | Hạng Thương Gia Bamb...   travel  \n",
       "3  Subskrybuj mój kanał :) Instagram: https://www...   travel  \n",
       "4  A hectic week, packing, teaching and getting a...   travel  "
      ]
     },
     "execution_count": 4,
     "metadata": {},
     "output_type": "execute_result"
    }
   ],
   "source": [
    "data = pd.read_csv('travel_science_food_manufacturing_history_art_18_5_19_withDuplicate.csv')\n",
    "data.head()"
   ]
  },
  {
   "cell_type": "code",
   "execution_count": 7,
   "metadata": {
    "collapsed": false,
    "deletable": true,
    "editable": true
   },
   "outputs": [
    {
     "data": {
      "text/plain": [
       "Index([u'Video id', u'Title', u'Description', u'Category'], dtype='object')"
      ]
     },
     "execution_count": 7,
     "metadata": {},
     "output_type": "execute_result"
    }
   ],
   "source": [
    "data.columns"
   ]
  },
  {
   "cell_type": "markdown",
   "metadata": {},
   "source": [
    "# initial count of each category comments"
   ]
  },
  {
   "cell_type": "code",
   "execution_count": 4,
   "metadata": {
    "collapsed": false,
    "deletable": true,
    "editable": true
   },
   "outputs": [
    {
     "name": "stderr",
     "output_type": "stream",
     "text": [
      "/home/mint/anaconda2/lib/python2.7/site-packages/seaborn/categorical.py:1428: FutureWarning: remove_na is deprecated and is a private function. Do not use.\n",
      "  stat_data = remove_na(group_data)\n"
     ]
    },
    {
     "data": {
      "image/png": "[encoded data removed]",
      "text/plain": [
       "<matplotlib.figure.Figure at 0x7f94ad493950>"
      ]
     },
     "metadata": {},
     "output_type": "display_data"
    }
   ],
   "source": [
    "sb.countplot(data=data, x='Category')\n",
    "plt.show()"
   ]
  },
  {
   "cell_type": "code",
   "execution_count": 5,
   "metadata": {
    "collapsed": false,
    "deletable": true,
    "editable": true
   },
   "outputs": [],
   "source": [
    "# \n",
    "data.dropna(inplace=True)"
   ]
  },
  {
   "cell_type": "code",
   "execution_count": 6,
   "metadata": {
    "collapsed": false,
    "deletable": true,
    "editable": true
   },
   "outputs": [
    {
     "data": {
      "text/plain": [
       "(9816, 4)"
      ]
     },
     "execution_count": 6,
     "metadata": {},
     "output_type": "execute_result"
    }
   ],
   "source": [
    "data.shape"
   ]
  },
  {
   "cell_type": "code",
   "execution_count": 7,
   "metadata": {
    "collapsed": false,
    "deletable": true,
    "editable": true
   },
   "outputs": [],
   "source": [
    "# any duplicate rows\n",
    "data.drop_duplicates(inplace=True)"
   ]
  },
  {
   "cell_type": "code",
   "execution_count": 8,
   "metadata": {
    "collapsed": false,
    "deletable": true,
    "editable": true
   },
   "outputs": [
    {
     "data": {
      "text/plain": [
       "(1870, 4)"
      ]
     },
     "execution_count": 8,
     "metadata": {},
     "output_type": "execute_result"
    }
   ],
   "source": [
    "# print(type(data))\n",
    "data.shape"
   ]
  },
  {
   "cell_type": "markdown",
   "metadata": {},
   "source": [
    "# Category count after duplicate and nan removal rows from datasets"
   ]
  },
  {
   "cell_type": "code",
   "execution_count": 9,
   "metadata": {
    "collapsed": false,
    "deletable": true,
    "editable": true
   },
   "outputs": [
    {
     "data": {
      "image/png": "[encoded data removed]",
      "text/plain": [
       "<matplotlib.figure.Figure at 0x7f94af557390>"
      ]
     },
     "metadata": {},
     "output_type": "display_data"
    }
   ],
   "source": [
    "sb.countplot(data=data, x='Category')\n",
    "plt.show()"
   ]
  },
  {
   "cell_type": "code",
   "execution_count": 80,
   "metadata": {
    "collapsed": false,
    "deletable": true,
    "editable": true
   },
   "outputs": [],
   "source": [
    "# stop"
   ]
  },
  {
   "cell_type": "code",
   "execution_count": 81,
   "metadata": {
    "collapsed": true,
    "deletable": true,
    "editable": true
   },
   "outputs": [],
   "source": [
    "# def remove_stopWords(s):\n",
    "#     s = ' '.join(word for word in s.split() if word not in stop)\n",
    "#     return s\n"
   ]
  },
  {
   "cell_type": "markdown",
   "metadata": {},
   "source": [
    "# preprocessing function"
   ]
  },
  {
   "cell_type": "code",
   "execution_count": 100,
   "metadata": {
    "collapsed": true,
    "deletable": true,
    "editable": true
   },
   "outputs": [],
   "source": [
    "def preprocess(words):\n",
    "    words = words.lower()\n",
    "#     for word in words:\n",
    "#         print(word)\n",
    "#         break\n",
    "    words = re.sub(r\"what's\", \"what is \",words)\n",
    "    words = re.sub(r\"can't\", \"cannot \",words)\n",
    "    words = re.sub(r\"n't\", \" not \",words)\n",
    "    words = re.sub(r\"i'm\", \"i am \",words)\n",
    "\n",
    "    words = re.sub('\\W', ' ',words)  # to remove otherthan [a-zA-Z0-9_] \n",
    "    words = re.sub('_', '', words)\n",
    "    words = re.sub('\\d+', '', words)# to remove number\n",
    "    \n",
    "    #words = remove_stopWords(words)\n",
    "    \n",
    "    # doing stemming and stopword removal together\n",
    "    words = ' '.join([snow.stem(word) for word in words.split() if word not in stop]) # to remove stopwords\n",
    "\n",
    "    words = words.strip(' ')\n",
    "\n",
    "    return words"
   ]
  },
  {
   "cell_type": "markdown",
   "metadata": {},
   "source": [
    "# preprocessing on 'Title' part of dataset"
   ]
  },
  {
   "cell_type": "code",
   "execution_count": 104,
   "metadata": {
    "collapsed": false,
    "deletable": true,
    "editable": true
   },
   "outputs": [
    {
     "name": "stdout",
     "output_type": "stream",
     "text": [
      "0                day gulftain missil travel iran ferri\n",
      "1                       travel hack collab heyitsjemma\n",
      "2    kh nh linh travel h ng th ng gia bamboo airway...\n",
      "3    best video lefkada holiday greec travel drone ...\n",
      "4    vlog travel pack storm new addict matur beauti...\n",
      "5                               ocean citi travel vlog\n",
      "6    travel ireland explor malahid castl shop haile...\n",
      "7                        girl camera take cali la vlog\n",
      "8                           mewar udaipur travel video\n",
      "9    ireland vlog photo shoot amaz view travel home...\n",
      "Name: Title, dtype: object\n"
     ]
    }
   ],
   "source": [
    "data['Title'] = data['Title'].map(lambda com: preprocess(com))\n",
    "print(data['Title'].head(10))"
   ]
  },
  {
   "cell_type": "markdown",
   "metadata": {},
   "source": [
    "# preprocessing on 'Description' part of dataset"
   ]
  },
  {
   "cell_type": "code",
   "execution_count": 105,
   "metadata": {
    "collapsed": false,
    "deletable": true,
    "editable": true
   },
   "outputs": [
    {
     "name": "stdout",
     "output_type": "stream",
     "text": [
      "0    https www timesofisrael com former mk say iran...\n",
      "1    hey hope guy enjoy know video bit differ fit h...\n",
      "2    kh nh linh travel vlog h ng th ng gia bamboo a...\n",
      "3    subskrybuj j kana instagram https www instagra...\n",
      "4    hectic week pack teach get pedicur get easter ...\n",
      "5    thank much watch realli hope enjoy much film e...\n",
      "6    got chanc travel ireland order visit best frie...\n",
      "7    visit california littl vlog place visit malibu...\n",
      "8    video made akshay mathuriya https www instagra...\n",
      "9    got chanc travel ireland order visit best frie...\n",
      "Name: Description, dtype: object\n"
     ]
    }
   ],
   "source": [
    "data['Description'] = data['Description'].map(lambda com: preprocess(com))\n",
    "print(data['Description'].head(10))"
   ]
  },
  {
   "cell_type": "markdown",
   "metadata": {},
   "source": [
    "# writing to csv file"
   ]
  },
  {
   "cell_type": "code",
   "execution_count": 106,
   "metadata": {
    "collapsed": false,
    "deletable": true,
    "editable": true
   },
   "outputs": [
    {
     "name": "stdout",
     "output_type": "stream",
     "text": [
      "done\n"
     ]
    }
   ],
   "source": [
    "data.to_csv('preprocessed_data.csv', index=False, encoding='utf-8')\n",
    "print('done')"
   ]
  }
 ],
 "metadata": {
  "kernelspec": {
   "display_name": "Python 2",
   "language": "python",
   "name": "python2"
  },
  "language_info": {
   "codemirror_mode": {
    "name": "ipython",
    "version": 2
   },
   "file_extension": ".py",
   "mimetype": "text/x-python",
   "name": "python",
   "nbconvert_exporter": "python",
   "pygments_lexer": "ipython2",
   "version": "2.7.15"
  }
 },
 "nbformat": 4,
 "nbformat_minor": 2
}
