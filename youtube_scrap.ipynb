{
 "cells": [
  {
   "cell_type": "markdown",
   "metadata": {},
   "source": [
    "# header file"
   ]
  },
  {
   "cell_type": "code",
   "execution_count": 1,
   "metadata": {
    "collapsed": true,
    "deletable": true,
    "editable": true
   },
   "outputs": [],
   "source": [
    "import urllib\n",
    "from bs4 import BeautifulSoup\n",
    "\n",
    "import pandas as pd\n",
    "import numpy as np\n",
    "import re"
   ]
  },
  {
   "cell_type": "markdown",
   "metadata": {},
   "source": [
    "# declare Empty DataFrame"
   ]
  },
  {
   "cell_type": "code",
   "execution_count": 16,
   "metadata": {
    "collapsed": false,
    "deletable": true,
    "editable": true
   },
   "outputs": [
    {
     "name": "stdout",
     "output_type": "stream",
     "text": [
      "<class 'pandas.core.frame.DataFrame'>\n",
      "Empty DataFrame\n",
      "Columns: [Video id, Title, Description, Category]\n",
      "Index: []\n"
     ]
    }
   ],
   "source": [
    "data = pd.DataFrame(columns=['Video id', 'Title', 'Description', 'Category'])# having 4 columns\n",
    "print(type(data))\n",
    "print(data)"
   ]
  },
  {
   "cell_type": "markdown",
   "metadata": {},
   "source": [
    "# empty list to store data"
   ]
  },
  {
   "cell_type": "code",
   "execution_count": 28,
   "metadata": {
    "collapsed": true
   },
   "outputs": [],
   "source": [
    "data_list = []"
   ]
  },
  {
   "cell_type": "code",
   "execution_count": 17,
   "metadata": {
    "collapsed": true
   },
   "outputs": [],
   "source": [
    "NO_OF_SCRAP_PER_CATEGORY = 17#00\n",
    "# QUERY word are for scrapping through this word\n",
    "QUERY = ['travel', 'science and technology', 'food', 'manufacturing', 'history', 'art']\n",
    "# CATEGORY which i will save in pandas dataframe in Category columns\n",
    "CATEGORY = ['travel', 'science', 'food', 'manufacturing', 'history', 'art']"
   ]
  },
  {
   "cell_type": "markdown",
   "metadata": {},
   "source": [
    "# scrapping function"
   ]
  },
  {
   "cell_type": "code",
   "execution_count": 29,
   "metadata": {
    "collapsed": true
   },
   "outputs": [],
   "source": [
    "def youtube_scrap(query, category):\n",
    "    url = \"https://www.youtube.com/results?search_query=\"\n",
    "    query = query   #\"art\"#\"history\"#\"manufacturing\"#\"food\"#\"science and technology\"#\"travel\"\n",
    "\n",
    "    html = urllib.urlopen(url+query)\n",
    "    #print(html)\n",
    "    soup = BeautifulSoup(html, 'lxml')\n",
    "    #print(soup)\n",
    "    \n",
    "    buttons_outer = soup.findAll('a',attrs={'class':\"yt-uix-button vve-check yt-uix-sessionlink yt-uix-button-default yt-uix-button-size-default\"})\n",
    "    \n",
    "    \n",
    "    count = 0 # to keep no of scrapping done per category\n",
    "    while True:\n",
    "        buttons = buttons_outer\n",
    "        buttons_outer = []\n",
    "        for button in buttons:\n",
    "\n",
    "            html = urllib.urlopen(url+button['href'])\n",
    "\n",
    "            soup = BeautifulSoup(html, 'lxml')\n",
    "\n",
    "            buttons_inner = soup.findAll('a',attrs={'class':\"yt-uix-button vve-check yt-uix-sessionlink yt-uix-button-default yt-uix-button-size-default\"})\n",
    "            buttons_outer.extend(buttons_inner)\n",
    "\n",
    "            for content in soup.find_all('div', class_= \"yt-lockup-content\"):\n",
    "\n",
    "                # to get the VIDEO_ID\n",
    "                all_id_split = content.findAll('a',attrs={'class':'yt-uix-tile-link'})[0]['href'].split('=')\n",
    "                if len(all_id_split) != 1:\n",
    "                    video_id = all_id_split[len(all_id_split)-1]\n",
    "                else:\n",
    "                    video_id = all_id_split[0]\n",
    "\n",
    "                # to get VIDEO TITLE\n",
    "                title = content.h3.a.text\n",
    "\n",
    "                # to get VIDEO DESCRIPTION\n",
    "                try:\n",
    "                    description = content.find('div', class_=\"yt-lockup-description yt-ui-ellipsis yt-ui-ellipsis-2\").text        \n",
    "                except Exception as e:\n",
    "                    description = None\n",
    "\n",
    "                print(count)\n",
    "                # finally writing in pandas dataframe in row wise\n",
    "                #data.append({'Video id': video_id, 'Title':title, 'Description':description, 'Category':category }, ignore_index=True)\n",
    "                \n",
    "                # adding data to list \n",
    "                data_list.append([video_id, title, description, category])\n",
    "                \n",
    "                count = count + 1\n",
    "                if count %100 == 0:\n",
    "                    print(count)\n",
    "\n",
    "                if count == NO_OF_SCRAP_PER_CATEGORY:\n",
    "                    break\n",
    "            if count == NO_OF_SCRAP_PER_CATEGORY:\n",
    "                break\n",
    "        if count == NO_OF_SCRAP_PER_CATEGORY:\n",
    "            break\n",
    "\n",
    "\n",
    "    print('done')"
   ]
  },
  {
   "cell_type": "code",
   "execution_count": 38,
   "metadata": {
    "collapsed": false
   },
   "outputs": [],
   "source": [
    "for i in range(len(QUERY)):\n",
    "    youtube_scrap(QUERY[i], CATEGORY[i])"
   ]
  },
  {
   "cell_type": "code",
   "execution_count": 35,
   "metadata": {
    "collapsed": false,
    "deletable": true,
    "editable": true
   },
   "outputs": [
    {
     "name": "stdout",
     "output_type": "stream",
     "text": [
      "done\n"
     ]
    }
   ],
   "source": [
    "# writing list data to pandas dataframe\n",
    "for row in data_list:\n",
    "    data.loc[len(data)] = row\n",
    "print('done')"
   ]
  },
  {
   "cell_type": "code",
   "execution_count": 104,
   "metadata": {
    "collapsed": false,
    "deletable": true,
    "editable": true
   },
   "outputs": [
    {
     "data": {
      "text/html": [
       "<div>\n",
       "<style scoped>\n",
       "    .dataframe tbody tr th:only-of-type {\n",
       "        vertical-align: middle;\n",
       "    }\n",
       "\n",
       "    .dataframe tbody tr th {\n",
       "        vertical-align: top;\n",
       "    }\n",
       "\n",
       "    .dataframe thead th {\n",
       "        text-align: right;\n",
       "    }\n",
       "</style>\n",
       "<table border=\"1\" class=\"dataframe\">\n",
       "  <thead>\n",
       "    <tr style=\"text-align: right;\">\n",
       "      <th></th>\n",
       "      <th>Video id</th>\n",
       "      <th>Title</th>\n",
       "      <th>Description</th>\n",
       "      <th>Category</th>\n",
       "    </tr>\n",
       "  </thead>\n",
       "  <tbody>\n",
       "    <tr>\n",
       "      <th>0</th>\n",
       "      <td>DU1BEo2GlnM</td>\n",
       "      <td>Day 193.2  Did Gulftainer Missiles Travel To I...</td>\n",
       "      <td>https://www.timesofisrael.com/former-mk-says-i...</td>\n",
       "      <td>travel</td>\n",
       "    </tr>\n",
       "    <tr>\n",
       "      <th>1</th>\n",
       "      <td>XatWIV-bWnA</td>\n",
       "      <td>Travel Hacks | Collab With Heyitsjemma</td>\n",
       "      <td>Hey hope you guys enjoyed I know this video is...</td>\n",
       "      <td>travel</td>\n",
       "    </tr>\n",
       "    <tr>\n",
       "      <th>2</th>\n",
       "      <td>p0-Sa6hK9ZU</td>\n",
       "      <td>Khánh Linh Travel #1 | Hạng Thương Gia Bamboo ...</td>\n",
       "      <td>Khánh Linh Travel Vlogs | Hạng Thương Gia Bamb...</td>\n",
       "      <td>travel</td>\n",
       "    </tr>\n",
       "    <tr>\n",
       "      <th>3</th>\n",
       "      <td>egjqs_6zvno</td>\n",
       "      <td>BEST VIDEO OF Lefkada | 2018 - HOLIDAY | Greec...</td>\n",
       "      <td>Subskrybuj mój kanał :) Instagram: https://www...</td>\n",
       "      <td>travel</td>\n",
       "    </tr>\n",
       "    <tr>\n",
       "      <th>4</th>\n",
       "      <td>abH6pFIp--Y</td>\n",
       "      <td>Vlog 7 | Traveling | Packing &amp; Storms | New Ad...</td>\n",
       "      <td>A hectic week, packing, teaching and getting a...</td>\n",
       "      <td>travel</td>\n",
       "    </tr>\n",
       "    <tr>\n",
       "      <th>5</th>\n",
       "      <td>6wKmeb7zbto</td>\n",
       "      <td>OCEAN CITY / Travel Vlog</td>\n",
       "      <td>Thank you so much for watching! We really hope...</td>\n",
       "      <td>travel</td>\n",
       "    </tr>\n",
       "    <tr>\n",
       "      <th>6</th>\n",
       "      <td>hXexq91lJRY</td>\n",
       "      <td>Traveling to Ireland! Exploring Malahide Castl...</td>\n",
       "      <td>I got the chance to travel to Ireland in order...</td>\n",
       "      <td>travel</td>\n",
       "    </tr>\n",
       "    <tr>\n",
       "      <th>7</th>\n",
       "      <td>qCKn7yOTtjg</td>\n",
       "      <td>2 girls 1 camera Takes Cali | LA Vlog</td>\n",
       "      <td>We visit CALIFORNIA! This is a little vlog of ...</td>\n",
       "      <td>travel</td>\n",
       "    </tr>\n",
       "    <tr>\n",
       "      <th>8</th>\n",
       "      <td>fx_UnkeOgTs</td>\n",
       "      <td>MEWAR // Udaipur Travelling Video !!</td>\n",
       "      <td>This video is made by Akshay Mathuriya https:/...</td>\n",
       "      <td>travel</td>\n",
       "    </tr>\n",
       "    <tr>\n",
       "      <th>9</th>\n",
       "      <td>TIpLi9qsH00</td>\n",
       "      <td>Ireland Vlog : Photo Shoots, Amazing Views, &amp; ...</td>\n",
       "      <td>I got the chance to travel to Ireland in order...</td>\n",
       "      <td>travel</td>\n",
       "    </tr>\n",
       "  </tbody>\n",
       "</table>\n",
       "</div>"
      ],
      "text/plain": [
       "      Video id                                              Title  \\\n",
       "0  DU1BEo2GlnM  Day 193.2  Did Gulftainer Missiles Travel To I...   \n",
       "1  XatWIV-bWnA             Travel Hacks | Collab With Heyitsjemma   \n",
       "2  p0-Sa6hK9ZU  Khánh Linh Travel #1 | Hạng Thương Gia Bamboo ...   \n",
       "3  egjqs_6zvno  BEST VIDEO OF Lefkada | 2018 - HOLIDAY | Greec...   \n",
       "4  abH6pFIp--Y  Vlog 7 | Traveling | Packing & Storms | New Ad...   \n",
       "5  6wKmeb7zbto                           OCEAN CITY / Travel Vlog   \n",
       "6  hXexq91lJRY  Traveling to Ireland! Exploring Malahide Castl...   \n",
       "7  qCKn7yOTtjg              2 girls 1 camera Takes Cali | LA Vlog   \n",
       "8  fx_UnkeOgTs               MEWAR // Udaipur Travelling Video !!   \n",
       "9  TIpLi9qsH00  Ireland Vlog : Photo Shoots, Amazing Views, & ...   \n",
       "\n",
       "                                         Description Category  \n",
       "0  https://www.timesofisrael.com/former-mk-says-i...   travel  \n",
       "1  Hey hope you guys enjoyed I know this video is...   travel  \n",
       "2  Khánh Linh Travel Vlogs | Hạng Thương Gia Bamb...   travel  \n",
       "3  Subskrybuj mój kanał :) Instagram: https://www...   travel  \n",
       "4  A hectic week, packing, teaching and getting a...   travel  \n",
       "5  Thank you so much for watching! We really hope...   travel  \n",
       "6  I got the chance to travel to Ireland in order...   travel  \n",
       "7  We visit CALIFORNIA! This is a little vlog of ...   travel  \n",
       "8  This video is made by Akshay Mathuriya https:/...   travel  \n",
       "9  I got the chance to travel to Ireland in order...   travel  "
      ]
     },
     "execution_count": 104,
     "metadata": {},
     "output_type": "execute_result"
    }
   ],
   "source": [
    "data.head(10)"
   ]
  },
  {
   "cell_type": "code",
   "execution_count": 105,
   "metadata": {
    "collapsed": false,
    "deletable": true,
    "editable": true
   },
   "outputs": [
    {
     "data": {
      "text/html": [
       "<div>\n",
       "<style scoped>\n",
       "    .dataframe tbody tr th:only-of-type {\n",
       "        vertical-align: middle;\n",
       "    }\n",
       "\n",
       "    .dataframe tbody tr th {\n",
       "        vertical-align: top;\n",
       "    }\n",
       "\n",
       "    .dataframe thead th {\n",
       "        text-align: right;\n",
       "    }\n",
       "</style>\n",
       "<table border=\"1\" class=\"dataframe\">\n",
       "  <thead>\n",
       "    <tr style=\"text-align: right;\">\n",
       "      <th></th>\n",
       "      <th>Video id</th>\n",
       "      <th>Title</th>\n",
       "      <th>Description</th>\n",
       "      <th>Category</th>\n",
       "    </tr>\n",
       "  </thead>\n",
       "  <tbody>\n",
       "    <tr>\n",
       "      <th>10190</th>\n",
       "      <td>725WlG1idPc</td>\n",
       "      <td>Ellie Goulding - Love Me Like You Do (Official...</td>\n",
       "      <td>Brand new album DELIRIUM out November 6, inclu...</td>\n",
       "      <td>art</td>\n",
       "    </tr>\n",
       "    <tr>\n",
       "      <th>10191</th>\n",
       "      <td>UePtoxDhJSw</td>\n",
       "      <td>Wiz Khalifa - Black And Yellow [Official Music...</td>\n",
       "      <td>Watch the best videos on YouTube from Wiz Khal...</td>\n",
       "      <td>art</td>\n",
       "    </tr>\n",
       "    <tr>\n",
       "      <th>10192</th>\n",
       "      <td>KqecsHPqX6Y</td>\n",
       "      <td>Relaxing Music for Stress Relief. Meditation M...</td>\n",
       "      <td>Meditation Relax Music Channel presents Relaxi...</td>\n",
       "      <td>art</td>\n",
       "    </tr>\n",
       "    <tr>\n",
       "      <th>10193</th>\n",
       "      <td>/user/ColdplayVEVO</td>\n",
       "      <td>Coldplay</td>\n",
       "      <td>The official YouTube channel of Coldplay. Live...</td>\n",
       "      <td>art</td>\n",
       "    </tr>\n",
       "    <tr>\n",
       "      <th>10194</th>\n",
       "      <td>v98cFsRXi8I</td>\n",
       "      <td>R. City - Locked Away (Lyric Video) ft. Adam L...</td>\n",
       "      <td>Rock City \"Locked Away\" Available Now! iTunes:...</td>\n",
       "      <td>art</td>\n",
       "    </tr>\n",
       "    <tr>\n",
       "      <th>10195</th>\n",
       "      <td>a2RA0vsZXf8</td>\n",
       "      <td>\"Just A Dream\" by Nelly - Sam Tsui &amp; Christina...</td>\n",
       "      <td>I am devastated, sad, angry, and heartbroken. ...</td>\n",
       "      <td>art</td>\n",
       "    </tr>\n",
       "    <tr>\n",
       "      <th>10196</th>\n",
       "      <td>VQ7Ek20m4t0</td>\n",
       "      <td>Easy Arts &amp; Crafts Projects for Kids : Making ...</td>\n",
       "      <td>Learn how to teach young children to make thum...</td>\n",
       "      <td>art</td>\n",
       "    </tr>\n",
       "    <tr>\n",
       "      <th>10197</th>\n",
       "      <td>/user/TheBestVines</td>\n",
       "      <td>Dumb Genius</td>\n",
       "      <td>Dumb Genius, bringing you the Best Funny Vines...</td>\n",
       "      <td>art</td>\n",
       "    </tr>\n",
       "    <tr>\n",
       "      <th>10198</th>\n",
       "      <td>P1t9T1TAOBI</td>\n",
       "      <td>XXXTENTACION - BAD! (Audio)</td>\n",
       "      <td>Stream: https://EMPIRE.lnk.to/BADSingleYO Pre-...</td>\n",
       "      <td>art</td>\n",
       "    </tr>\n",
       "    <tr>\n",
       "      <th>10199</th>\n",
       "      <td>LSvOTw8UH6s</td>\n",
       "      <td>My Demons - Starset - (fan lyric video)</td>\n",
       "      <td>Please note: This is not Starset's channel, th...</td>\n",
       "      <td>art</td>\n",
       "    </tr>\n",
       "  </tbody>\n",
       "</table>\n",
       "</div>"
      ],
      "text/plain": [
       "                 Video id                                              Title  \\\n",
       "10190         725WlG1idPc  Ellie Goulding - Love Me Like You Do (Official...   \n",
       "10191         UePtoxDhJSw  Wiz Khalifa - Black And Yellow [Official Music...   \n",
       "10192         KqecsHPqX6Y  Relaxing Music for Stress Relief. Meditation M...   \n",
       "10193  /user/ColdplayVEVO                                           Coldplay   \n",
       "10194         v98cFsRXi8I  R. City - Locked Away (Lyric Video) ft. Adam L...   \n",
       "10195         a2RA0vsZXf8  \"Just A Dream\" by Nelly - Sam Tsui & Christina...   \n",
       "10196         VQ7Ek20m4t0  Easy Arts & Crafts Projects for Kids : Making ...   \n",
       "10197  /user/TheBestVines                                        Dumb Genius   \n",
       "10198         P1t9T1TAOBI                        XXXTENTACION - BAD! (Audio)   \n",
       "10199         LSvOTw8UH6s            My Demons - Starset - (fan lyric video)   \n",
       "\n",
       "                                             Description Category  \n",
       "10190  Brand new album DELIRIUM out November 6, inclu...      art  \n",
       "10191  Watch the best videos on YouTube from Wiz Khal...      art  \n",
       "10192  Meditation Relax Music Channel presents Relaxi...      art  \n",
       "10193  The official YouTube channel of Coldplay. Live...      art  \n",
       "10194  Rock City \"Locked Away\" Available Now! iTunes:...      art  \n",
       "10195  I am devastated, sad, angry, and heartbroken. ...      art  \n",
       "10196  Learn how to teach young children to make thum...      art  \n",
       "10197  Dumb Genius, bringing you the Best Funny Vines...      art  \n",
       "10198  Stream: https://EMPIRE.lnk.to/BADSingleYO Pre-...      art  \n",
       "10199  Please note: This is not Starset's channel, th...      art  "
      ]
     },
     "execution_count": 105,
     "metadata": {},
     "output_type": "execute_result"
    }
   ],
   "source": [
    "data.tail(10)"
   ]
  },
  {
   "cell_type": "markdown",
   "metadata": {},
   "source": [
    "# writing to csv file"
   ]
  },
  {
   "cell_type": "code",
   "execution_count": 102,
   "metadata": {
    "collapsed": false,
    "deletable": true,
    "editable": true
   },
   "outputs": [
    {
     "name": "stdout",
     "output_type": "stream",
     "text": [
      "done\n"
     ]
    }
   ],
   "source": [
    "data.to_csv('travel_science_food_manufacturing_history_art_18_5_19.csv', index=False, encoding='utf-8')\n",
    "print('done')"
   ]
  }
 ],
 "metadata": {
  "kernelspec": {
   "display_name": "Python 2",
   "language": "python",
   "name": "python2"
  },
  "language_info": {
   "codemirror_mode": {
    "name": "ipython",
    "version": 2
   },
   "file_extension": ".py",
   "mimetype": "text/x-python",
   "name": "python",
   "nbconvert_exporter": "python",
   "pygments_lexer": "ipython2",
   "version": "2.7.15"
  }
 },
 "nbformat": 4,
 "nbformat_minor": 2
}
